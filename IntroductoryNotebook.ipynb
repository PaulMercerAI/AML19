{
  "nbformat": 4,
  "nbformat_minor": 0,
  "metadata": {
    "colab": {
      "name": "ThirdDatasetRedTeam.ipynb",
      "provenance": [],
      "include_colab_link": true
    },
    "kernelspec": {
      "name": "python3",
      "display_name": "Python 3"
    }
  },
  "cells": [
    {
      "cell_type": "markdown",
      "metadata": {
        "id": "view-in-github",
        "colab_type": "text"
      },
      "source": [
        "<a href=\"https://colab.research.google.com/github/PaulMercerAI/AML19/blob/master/IntroductoryNotebook.ipynb\" target=\"_parent\"><img src=\"https://colab.research.google.com/assets/colab-badge.svg\" alt=\"Open In Colab\"/></a>"
      ]
    },
    {
      "cell_type": "code",
      "metadata": {
        "id": "L31Fbkd_fDnm",
        "colab_type": "code",
        "outputId": "d04ef3df-022f-4005-bdab-4875ea359313",
        "colab": {
          "base_uri": "https://localhost:8080/",
          "height": 69
        }
      },
      "source": [
        "!curl https://raw.githubusercontent.com/PaulMercerAI/AML19/master/data/20191111_Transactions.csv.xz -L | xzcat > transactions.csv "
      ],
      "execution_count": 2,
      "outputs": [
        {
          "output_type": "stream",
          "text": [
            "  % Total    % Received % Xferd  Average Speed   Time    Time     Time  Current\n",
            "                                 Dload  Upload   Total   Spent    Left  Speed\n",
            "100 5697k  100 5697k    0     0  3134k      0  0:00:01  0:00:01 --:--:-- 3132k\n"
          ],
          "name": "stdout"
        }
      ]
    },
    {
      "cell_type": "code",
      "metadata": {
        "id": "Pw7a2MhBKFbP",
        "colab_type": "code",
        "colab": {
          "base_uri": "https://localhost:8080/",
          "height": 69
        },
        "outputId": "fd2be17a-bcb0-453e-f064-c886ac786375"
      },
      "source": [
        "!curl https://raw.githubusercontent.com/PaulMercerAI/AML19/master/data/20191111_Accounts.csv.xz -L | xzcat > accounts.csv "
      ],
      "execution_count": 3,
      "outputs": [
        {
          "output_type": "stream",
          "text": [
            "  % Total    % Received % Xferd  Average Speed   Time    Time     Time  Current\n",
            "                                 Dload  Upload   Total   Spent    Left  Speed\n",
            "\r  0     0    0     0    0     0      0      0 --:--:-- --:--:-- --:--:--     0\r100  303k  100  303k    0     0  1273k      0 --:--:-- --:--:-- --:--:-- 1273k\n"
          ],
          "name": "stdout"
        }
      ]
    },
    {
      "cell_type": "code",
      "metadata": {
        "id": "h56qK_AVcGVE",
        "colab_type": "code",
        "outputId": "05eba3df-915d-4ae3-9574-acb36300f7a9",
        "colab": {
          "base_uri": "https://localhost:8080/",
          "height": 451
        }
      },
      "source": [
        "#!head transactions.csv\n",
        "!pip install node2vec"
      ],
      "execution_count": 4,
      "outputs": [
        {
          "output_type": "stream",
          "text": [
            "Collecting node2vec\n",
            "  Downloading https://files.pythonhosted.org/packages/55/61/8c4a162e5c7ee459e80874b146accaf05ed991308517fa1d5b0f6cb1df83/node2vec-0.3.1-py3-none-any.whl\n",
            "Requirement already satisfied: gensim in /usr/local/lib/python3.6/dist-packages (from node2vec) (3.6.0)\n",
            "Requirement already satisfied: numpy in /usr/local/lib/python3.6/dist-packages (from node2vec) (1.17.3)\n",
            "Requirement already satisfied: joblib>=0.13.2 in /usr/local/lib/python3.6/dist-packages (from node2vec) (0.14.0)\n",
            "Requirement already satisfied: tqdm in /usr/local/lib/python3.6/dist-packages (from node2vec) (4.28.1)\n",
            "Requirement already satisfied: networkx in /usr/local/lib/python3.6/dist-packages (from node2vec) (2.4)\n",
            "Requirement already satisfied: scipy>=0.18.1 in /usr/local/lib/python3.6/dist-packages (from gensim->node2vec) (1.3.1)\n",
            "Requirement already satisfied: smart-open>=1.2.1 in /usr/local/lib/python3.6/dist-packages (from gensim->node2vec) (1.8.4)\n",
            "Requirement already satisfied: six>=1.5.0 in /usr/local/lib/python3.6/dist-packages (from gensim->node2vec) (1.12.0)\n",
            "Requirement already satisfied: decorator>=4.3.0 in /usr/local/lib/python3.6/dist-packages (from networkx->node2vec) (4.4.1)\n",
            "Requirement already satisfied: requests in /usr/local/lib/python3.6/dist-packages (from smart-open>=1.2.1->gensim->node2vec) (2.21.0)\n",
            "Requirement already satisfied: boto3 in /usr/local/lib/python3.6/dist-packages (from smart-open>=1.2.1->gensim->node2vec) (1.10.4)\n",
            "Requirement already satisfied: boto>=2.32 in /usr/local/lib/python3.6/dist-packages (from smart-open>=1.2.1->gensim->node2vec) (2.49.0)\n",
            "Requirement already satisfied: chardet<3.1.0,>=3.0.2 in /usr/local/lib/python3.6/dist-packages (from requests->smart-open>=1.2.1->gensim->node2vec) (3.0.4)\n",
            "Requirement already satisfied: urllib3<1.25,>=1.21.1 in /usr/local/lib/python3.6/dist-packages (from requests->smart-open>=1.2.1->gensim->node2vec) (1.24.3)\n",
            "Requirement already satisfied: idna<2.9,>=2.5 in /usr/local/lib/python3.6/dist-packages (from requests->smart-open>=1.2.1->gensim->node2vec) (2.8)\n",
            "Requirement already satisfied: certifi>=2017.4.17 in /usr/local/lib/python3.6/dist-packages (from requests->smart-open>=1.2.1->gensim->node2vec) (2019.9.11)\n",
            "Requirement already satisfied: jmespath<1.0.0,>=0.7.1 in /usr/local/lib/python3.6/dist-packages (from boto3->smart-open>=1.2.1->gensim->node2vec) (0.9.4)\n",
            "Requirement already satisfied: botocore<1.14.0,>=1.13.4 in /usr/local/lib/python3.6/dist-packages (from boto3->smart-open>=1.2.1->gensim->node2vec) (1.13.4)\n",
            "Requirement already satisfied: s3transfer<0.3.0,>=0.2.0 in /usr/local/lib/python3.6/dist-packages (from boto3->smart-open>=1.2.1->gensim->node2vec) (0.2.1)\n",
            "Requirement already satisfied: python-dateutil<3.0.0,>=2.1; python_version >= \"2.7\" in /usr/local/lib/python3.6/dist-packages (from botocore<1.14.0,>=1.13.4->boto3->smart-open>=1.2.1->gensim->node2vec) (2.6.1)\n",
            "Requirement already satisfied: docutils<0.16,>=0.10 in /usr/local/lib/python3.6/dist-packages (from botocore<1.14.0,>=1.13.4->boto3->smart-open>=1.2.1->gensim->node2vec) (0.15.2)\n",
            "Installing collected packages: node2vec\n",
            "Successfully installed node2vec-0.3.1\n"
          ],
          "name": "stdout"
        }
      ]
    },
    {
      "cell_type": "code",
      "metadata": {
        "id": "9BcAhUM3gUxH",
        "colab_type": "code",
        "colab": {}
      },
      "source": [
        "import pandas as pd\n",
        "import numpy as np \n",
        "import matplotlib.pyplot as plt\n",
        "import seaborn as sns\n",
        "import networkx as nx\n",
        "import node2vec"
      ],
      "execution_count": 0,
      "outputs": []
    },
    {
      "cell_type": "code",
      "metadata": {
        "id": "JW6Q9zKRgsD3",
        "colab_type": "code",
        "colab": {}
      },
      "source": [
        "transactions = pd.read_csv('transactions.csv')\n",
        "accounts = pd.read_csv('accounts.csv')"
      ],
      "execution_count": 0,
      "outputs": []
    },
    {
      "cell_type": "code",
      "metadata": {
        "id": "StHHcOS4YUqy",
        "colab_type": "code",
        "outputId": "b8d49eee-1d4c-40ff-81fd-ce92129aabb7",
        "colab": {
          "base_uri": "https://localhost:8080/",
          "height": 363
        }
      },
      "source": [
        "#transactions[transactions['is_suspx']==True].tail(10)\n",
        "transactions.head(10)"
      ],
      "execution_count": 16,
      "outputs": [
        {
          "output_type": "execute_result",
          "data": {
            "text/html": [
              "<div>\n",
              "<style scoped>\n",
              "    .dataframe tbody tr th:only-of-type {\n",
              "        vertical-align: middle;\n",
              "    }\n",
              "\n",
              "    .dataframe tbody tr th {\n",
              "        vertical-align: top;\n",
              "    }\n",
              "\n",
              "    .dataframe thead th {\n",
              "        text-align: right;\n",
              "    }\n",
              "</style>\n",
              "<table border=\"1\" class=\"dataframe\">\n",
              "  <thead>\n",
              "    <tr style=\"text-align: right;\">\n",
              "      <th></th>\n",
              "      <th>id</th>\n",
              "      <th>timestamp</th>\n",
              "      <th>sender_account</th>\n",
              "      <th>receiver_account</th>\n",
              "      <th>amount</th>\n",
              "      <th>is_suspx</th>\n",
              "      <th>alert_id</th>\n",
              "      <th>alert_type</th>\n",
              "    </tr>\n",
              "  </thead>\n",
              "  <tbody>\n",
              "    <tr>\n",
              "      <th>0</th>\n",
              "      <td>1</td>\n",
              "      <td>2017-01-01T00:00:00Z</td>\n",
              "      <td>6f339c5e-0392-4cfa-9d9f-2c8c6640464a</td>\n",
              "      <td>50cca99f-5ed2-465d-8c07-cdc393bc506c</td>\n",
              "      <td>397.89</td>\n",
              "      <td>Unknown</td>\n",
              "      <td>Unknown</td>\n",
              "      <td>Unknown</td>\n",
              "    </tr>\n",
              "    <tr>\n",
              "      <th>1</th>\n",
              "      <td>2</td>\n",
              "      <td>2017-01-01T00:00:00Z</td>\n",
              "      <td>a117b864-82f5-4390-ad69-6cb3b774b61d</td>\n",
              "      <td>f46a9817-194a-489d-8f3f-be079dba68ea</td>\n",
              "      <td>319.16</td>\n",
              "      <td>False</td>\n",
              "      <td>-</td>\n",
              "      <td>-</td>\n",
              "    </tr>\n",
              "    <tr>\n",
              "      <th>2</th>\n",
              "      <td>3</td>\n",
              "      <td>2017-01-01T00:00:00Z</td>\n",
              "      <td>2e0c881c-1068-4337-ae5e-ccf7df4924f2</td>\n",
              "      <td>39681e1d-898a-4752-9c71-64a818906db4</td>\n",
              "      <td>262.26</td>\n",
              "      <td>Unknown</td>\n",
              "      <td>Unknown</td>\n",
              "      <td>Unknown</td>\n",
              "    </tr>\n",
              "    <tr>\n",
              "      <th>3</th>\n",
              "      <td>4</td>\n",
              "      <td>2017-01-01T00:00:00Z</td>\n",
              "      <td>de72d970-10c4-4f9e-b020-321be90f4137</td>\n",
              "      <td>5eabfb1c-fda3-4293-97b3-0cb4bcf71f08</td>\n",
              "      <td>288.52</td>\n",
              "      <td>False</td>\n",
              "      <td>-</td>\n",
              "      <td>-</td>\n",
              "    </tr>\n",
              "    <tr>\n",
              "      <th>4</th>\n",
              "      <td>5</td>\n",
              "      <td>2017-01-01T00:00:00Z</td>\n",
              "      <td>68a522b9-ff6f-46ca-a245-932771224f95</td>\n",
              "      <td>42bb8f63-4145-4abc-8cc2-e0f013093c17</td>\n",
              "      <td>344.55</td>\n",
              "      <td>Unknown</td>\n",
              "      <td>Unknown</td>\n",
              "      <td>Unknown</td>\n",
              "    </tr>\n",
              "    <tr>\n",
              "      <th>5</th>\n",
              "      <td>6</td>\n",
              "      <td>2017-01-01T00:00:00Z</td>\n",
              "      <td>e9ea9d49-bc94-446e-a741-0d2ce0f13db6</td>\n",
              "      <td>8db78572-ef7d-4821-bca0-258eb63d65d5</td>\n",
              "      <td>447.86</td>\n",
              "      <td>False</td>\n",
              "      <td>-</td>\n",
              "      <td>-</td>\n",
              "    </tr>\n",
              "    <tr>\n",
              "      <th>6</th>\n",
              "      <td>7</td>\n",
              "      <td>2017-01-01T00:00:00Z</td>\n",
              "      <td>b2b51b60-5c89-406e-aa1b-248fea94d306</td>\n",
              "      <td>ade81084-ef29-4413-bfda-e6661b314321</td>\n",
              "      <td>387.49</td>\n",
              "      <td>False</td>\n",
              "      <td>-</td>\n",
              "      <td>-</td>\n",
              "    </tr>\n",
              "    <tr>\n",
              "      <th>7</th>\n",
              "      <td>8</td>\n",
              "      <td>2017-01-01T00:00:00Z</td>\n",
              "      <td>4dbb5559-8c12-46ef-b1fa-b84d80dd8005</td>\n",
              "      <td>e9f746e7-1fd3-48d0-b7a4-d097aaa22344</td>\n",
              "      <td>370.12</td>\n",
              "      <td>False</td>\n",
              "      <td>-</td>\n",
              "      <td>-</td>\n",
              "    </tr>\n",
              "    <tr>\n",
              "      <th>8</th>\n",
              "      <td>9</td>\n",
              "      <td>2017-01-01T00:00:00Z</td>\n",
              "      <td>57232faa-b578-4525-af0a-c5d6ee5e1fb5</td>\n",
              "      <td>a2e25753-56ff-4b3e-b80c-fd3dba6a741c</td>\n",
              "      <td>409.68</td>\n",
              "      <td>False</td>\n",
              "      <td>-</td>\n",
              "      <td>-</td>\n",
              "    </tr>\n",
              "    <tr>\n",
              "      <th>9</th>\n",
              "      <td>10</td>\n",
              "      <td>2017-01-01T00:00:00Z</td>\n",
              "      <td>47020de0-bc64-47e9-b16e-c0b6e3d9de7f</td>\n",
              "      <td>99474e78-77cd-4b25-8786-140f2339df60</td>\n",
              "      <td>429.27</td>\n",
              "      <td>Unknown</td>\n",
              "      <td>Unknown</td>\n",
              "      <td>Unknown</td>\n",
              "    </tr>\n",
              "  </tbody>\n",
              "</table>\n",
              "</div>"
            ],
            "text/plain": [
              "   id             timestamp  ... alert_id alert_type\n",
              "0   1  2017-01-01T00:00:00Z  ...  Unknown    Unknown\n",
              "1   2  2017-01-01T00:00:00Z  ...        -          -\n",
              "2   3  2017-01-01T00:00:00Z  ...  Unknown    Unknown\n",
              "3   4  2017-01-01T00:00:00Z  ...        -          -\n",
              "4   5  2017-01-01T00:00:00Z  ...  Unknown    Unknown\n",
              "5   6  2017-01-01T00:00:00Z  ...        -          -\n",
              "6   7  2017-01-01T00:00:00Z  ...        -          -\n",
              "7   8  2017-01-01T00:00:00Z  ...        -          -\n",
              "8   9  2017-01-01T00:00:00Z  ...        -          -\n",
              "9  10  2017-01-01T00:00:00Z  ...  Unknown    Unknown\n",
              "\n",
              "[10 rows x 8 columns]"
            ]
          },
          "metadata": {
            "tags": []
          },
          "execution_count": 16
        }
      ]
    },
    {
      "cell_type": "code",
      "metadata": {
        "id": "nGfQ6mZALPa-",
        "colab_type": "code",
        "colab": {
          "base_uri": "https://localhost:8080/",
          "height": 206
        },
        "outputId": "935c928f-8b91-4b84-da7c-799984475119"
      },
      "source": [
        "accounts.head()"
      ],
      "execution_count": 17,
      "outputs": [
        {
          "output_type": "execute_result",
          "data": {
            "text/html": [
              "<div>\n",
              "<style scoped>\n",
              "    .dataframe tbody tr th:only-of-type {\n",
              "        vertical-align: middle;\n",
              "    }\n",
              "\n",
              "    .dataframe tbody tr th {\n",
              "        vertical-align: top;\n",
              "    }\n",
              "\n",
              "    .dataframe thead th {\n",
              "        text-align: right;\n",
              "    }\n",
              "</style>\n",
              "<table border=\"1\" class=\"dataframe\">\n",
              "  <thead>\n",
              "    <tr style=\"text-align: right;\">\n",
              "      <th></th>\n",
              "      <th>acct_id</th>\n",
              "      <th>initial_deposit</th>\n",
              "      <th>cust_forname</th>\n",
              "      <th>cust_surname</th>\n",
              "      <th>cust_gender</th>\n",
              "      <th>cust_birthdate</th>\n",
              "    </tr>\n",
              "  </thead>\n",
              "  <tbody>\n",
              "    <tr>\n",
              "      <th>0</th>\n",
              "      <td>bdd640fb-0667-4ad1-9c80-317fa3b1799d</td>\n",
              "      <td>92221.09</td>\n",
              "      <td>Terry</td>\n",
              "      <td>Knight</td>\n",
              "      <td>m</td>\n",
              "      <td>1971-11-26</td>\n",
              "    </tr>\n",
              "    <tr>\n",
              "      <th>1</th>\n",
              "      <td>23b8c1e9-3924-46de-beb1-3b9046685257</td>\n",
              "      <td>87897.72</td>\n",
              "      <td>Adrian</td>\n",
              "      <td>Walsh</td>\n",
              "      <td>m</td>\n",
              "      <td>1954-01-27</td>\n",
              "    </tr>\n",
              "    <tr>\n",
              "      <th>2</th>\n",
              "      <td>bd9c66b3-ad3c-4d6d-9a3d-1fa7bc8960a9</td>\n",
              "      <td>71028.58</td>\n",
              "      <td>Lynne</td>\n",
              "      <td>Taylor</td>\n",
              "      <td>f</td>\n",
              "      <td>1965-04-02</td>\n",
              "    </tr>\n",
              "    <tr>\n",
              "      <th>3</th>\n",
              "      <td>972a8469-1641-4f82-8b9d-2434e465e150</td>\n",
              "      <td>62945.84</td>\n",
              "      <td>Bryan</td>\n",
              "      <td>Hill</td>\n",
              "      <td>m</td>\n",
              "      <td>1958-11-06</td>\n",
              "    </tr>\n",
              "    <tr>\n",
              "      <th>4</th>\n",
              "      <td>17fc695a-07a0-4a6e-8822-e8f36c031199</td>\n",
              "      <td>75563.74</td>\n",
              "      <td>Clifford</td>\n",
              "      <td>Jones</td>\n",
              "      <td>m</td>\n",
              "      <td>1976-03-21</td>\n",
              "    </tr>\n",
              "  </tbody>\n",
              "</table>\n",
              "</div>"
            ],
            "text/plain": [
              "                                acct_id  ...  cust_birthdate\n",
              "0  bdd640fb-0667-4ad1-9c80-317fa3b1799d  ...      1971-11-26\n",
              "1  23b8c1e9-3924-46de-beb1-3b9046685257  ...      1954-01-27\n",
              "2  bd9c66b3-ad3c-4d6d-9a3d-1fa7bc8960a9  ...      1965-04-02\n",
              "3  972a8469-1641-4f82-8b9d-2434e465e150  ...      1958-11-06\n",
              "4  17fc695a-07a0-4a6e-8822-e8f36c031199  ...      1976-03-21\n",
              "\n",
              "[5 rows x 6 columns]"
            ]
          },
          "metadata": {
            "tags": []
          },
          "execution_count": 17
        }
      ]
    },
    {
      "cell_type": "code",
      "metadata": {
        "id": "zPhJOXX9Rerc",
        "colab_type": "code",
        "colab": {}
      },
      "source": [
        "#fanout = transactions.groupby('src_acct').agg({'amount': np.mean, 'src_acct': np.size, 'rcv_acct': 'nunique'})\n",
        "fanout = transactions.groupby('src_acct', 'recv_acct').agg({'amount': np.mean}).nlargest(10, )\n",
        "fanin = transactions.groupby('rcv_acct').agg({'amount': np.mean, 'rcv_acct': np.size, 'src_acct': 'nunique'})"
      ],
      "execution_count": 0,
      "outputs": []
    },
    {
      "cell_type": "code",
      "metadata": {
        "id": "VMZoE-sg8WlS",
        "colab_type": "code",
        "colab": {}
      },
      "source": [
        "fanout['total'] = fanout['amount'] * fanout[]"
      ],
      "execution_count": 0,
      "outputs": []
    },
    {
      "cell_type": "code",
      "metadata": {
        "id": "OHDt3HNdsxYD",
        "colab_type": "code",
        "outputId": "3ab39f83-e31a-4413-f941-8fdfee7e18c5",
        "colab": {
          "base_uri": "https://localhost:8080/",
          "height": 359
        }
      },
      "source": [
        "print(fanin.head())\n",
        "fanout.head()"
      ],
      "execution_count": 0,
      "outputs": [
        {
          "output_type": "stream",
          "text": [
            "                                          amount  rcv_acct  src_acct\n",
            "rcv_acct                                                            \n",
            "0034801d-a4f8-4cc3-b6ad-9d6e4f7bdd57  897.752500        20        12\n",
            "00a2cb5b-0fb7-412b-8beb-1eb79862efc8  840.283617        47        15\n",
            "01d61262-1637-4c52-a4f7-e95a2f1f6882  956.441646        79        50\n",
            "0264b540-e0a0-4afb-9984-b8cd6c477997  887.082400        50        12\n",
            "03a5f48f-2383-4522-9d54-af450a95e804  884.554667        45        22\n"
          ],
          "name": "stdout"
        },
        {
          "output_type": "execute_result",
          "data": {
            "text/html": [
              "<div>\n",
              "<style scoped>\n",
              "    .dataframe tbody tr th:only-of-type {\n",
              "        vertical-align: middle;\n",
              "    }\n",
              "\n",
              "    .dataframe tbody tr th {\n",
              "        vertical-align: top;\n",
              "    }\n",
              "\n",
              "    .dataframe thead th {\n",
              "        text-align: right;\n",
              "    }\n",
              "</style>\n",
              "<table border=\"1\" class=\"dataframe\">\n",
              "  <thead>\n",
              "    <tr style=\"text-align: right;\">\n",
              "      <th></th>\n",
              "      <th>amount</th>\n",
              "      <th>src_acct</th>\n",
              "      <th>rcv_acct</th>\n",
              "    </tr>\n",
              "    <tr>\n",
              "      <th>src_acct</th>\n",
              "      <th></th>\n",
              "      <th></th>\n",
              "      <th></th>\n",
              "    </tr>\n",
              "  </thead>\n",
              "  <tbody>\n",
              "    <tr>\n",
              "      <th>03a5f48f-2383-4522-9d54-af450a95e804</th>\n",
              "      <td>650.678148</td>\n",
              "      <td>54</td>\n",
              "      <td>45</td>\n",
              "    </tr>\n",
              "    <tr>\n",
              "      <th>0b5db882-4032-4d24-bf51-56dc9e3fc4a8</th>\n",
              "      <td>1031.592090</td>\n",
              "      <td>67</td>\n",
              "      <td>47</td>\n",
              "    </tr>\n",
              "    <tr>\n",
              "      <th>0b73ed81-ad81-4235-a655-3594fd5e76ae</th>\n",
              "      <td>999.110000</td>\n",
              "      <td>56</td>\n",
              "      <td>43</td>\n",
              "    </tr>\n",
              "    <tr>\n",
              "      <th>16160e05-7a25-4f35-b667-febde4020a98</th>\n",
              "      <td>1116.080000</td>\n",
              "      <td>52</td>\n",
              "      <td>40</td>\n",
              "    </tr>\n",
              "    <tr>\n",
              "      <th>17153d31-1675-41ae-8580-7e801a4ff9f3</th>\n",
              "      <td>1044.930000</td>\n",
              "      <td>49</td>\n",
              "      <td>36</td>\n",
              "    </tr>\n",
              "  </tbody>\n",
              "</table>\n",
              "</div>"
            ],
            "text/plain": [
              "                                           amount  src_acct  rcv_acct\n",
              "src_acct                                                             \n",
              "03a5f48f-2383-4522-9d54-af450a95e804   650.678148        54        45\n",
              "0b5db882-4032-4d24-bf51-56dc9e3fc4a8  1031.592090        67        47\n",
              "0b73ed81-ad81-4235-a655-3594fd5e76ae   999.110000        56        43\n",
              "16160e05-7a25-4f35-b667-febde4020a98  1116.080000        52        40\n",
              "17153d31-1675-41ae-8580-7e801a4ff9f3  1044.930000        49        36"
            ]
          },
          "metadata": {
            "tags": []
          },
          "execution_count": 23
        }
      ]
    },
    {
      "cell_type": "code",
      "metadata": {
        "id": "fezsV69Us2ct",
        "colab_type": "code",
        "colab": {}
      },
      "source": [
        "\n",
        "g = pd.merge(transactions, fanout.set_index('src_acct'), on='src_acct', right_index=True)"
      ],
      "execution_count": 0,
      "outputs": []
    },
    {
      "cell_type": "code",
      "metadata": {
        "id": "b6IsiCQ9s0Pa",
        "colab_type": "code",
        "colab": {}
      },
      "source": [
        "transactions.groupby('src_acct')"
      ],
      "execution_count": 0,
      "outputs": []
    },
    {
      "cell_type": "code",
      "metadata": {
        "id": "xBHS13Pcnk4X",
        "colab_type": "code",
        "outputId": "eae4b153-890a-477a-9a48-7ac6524a4198",
        "colab": {
          "base_uri": "https://localhost:8080/",
          "height": 426
        }
      },
      "source": [
        "field = 'alert_id'\n",
        "transactions.groupby('src_acct').agg({field:'nunique'}).nlargest(11, columns=field)\n"
      ],
      "execution_count": 0,
      "outputs": [
        {
          "output_type": "execute_result",
          "data": {
            "text/html": [
              "<div>\n",
              "<style scoped>\n",
              "    .dataframe tbody tr th:only-of-type {\n",
              "        vertical-align: middle;\n",
              "    }\n",
              "\n",
              "    .dataframe tbody tr th {\n",
              "        vertical-align: top;\n",
              "    }\n",
              "\n",
              "    .dataframe thead th {\n",
              "        text-align: right;\n",
              "    }\n",
              "</style>\n",
              "<table border=\"1\" class=\"dataframe\">\n",
              "  <thead>\n",
              "    <tr style=\"text-align: right;\">\n",
              "      <th></th>\n",
              "      <th>alert_id</th>\n",
              "    </tr>\n",
              "    <tr>\n",
              "      <th>src_acct</th>\n",
              "      <th></th>\n",
              "    </tr>\n",
              "  </thead>\n",
              "  <tbody>\n",
              "    <tr>\n",
              "      <th>5c9c5809-d27d-4d3f-bbc4-0886de137a41</th>\n",
              "      <td>7</td>\n",
              "    </tr>\n",
              "    <tr>\n",
              "      <th>db749698-b608-40b4-9679-9e027312660c</th>\n",
              "      <td>6</td>\n",
              "    </tr>\n",
              "    <tr>\n",
              "      <th>4563fca4-383a-408f-bf78-a0255b2cd8e7</th>\n",
              "      <td>5</td>\n",
              "    </tr>\n",
              "    <tr>\n",
              "      <th>d9cb07a0-8405-4435-9d4c-b81348aa7a42</th>\n",
              "      <td>5</td>\n",
              "    </tr>\n",
              "    <tr>\n",
              "      <th>ea151653-ab77-4bbb-9a52-8fdcdf168f27</th>\n",
              "      <td>5</td>\n",
              "    </tr>\n",
              "    <tr>\n",
              "      <th>f447a08f-310f-4e24-97a8-a610cf115457</th>\n",
              "      <td>5</td>\n",
              "    </tr>\n",
              "    <tr>\n",
              "      <th>10b4ce98-b433-4d5d-9344-7b3f1e005c06</th>\n",
              "      <td>4</td>\n",
              "    </tr>\n",
              "    <tr>\n",
              "      <th>153ff9a5-d48d-4d8b-b602-939d97a8e9ea</th>\n",
              "      <td>4</td>\n",
              "    </tr>\n",
              "    <tr>\n",
              "      <th>21738e1e-c0a9-48ae-b507-1d719e1a156c</th>\n",
              "      <td>4</td>\n",
              "    </tr>\n",
              "    <tr>\n",
              "      <th>37ac348c-7dcd-4023-a679-070ac22c87c6</th>\n",
              "      <td>4</td>\n",
              "    </tr>\n",
              "    <tr>\n",
              "      <th>434792f2-854e-499c-8dfd-82584807c92d</th>\n",
              "      <td>4</td>\n",
              "    </tr>\n",
              "  </tbody>\n",
              "</table>\n",
              "</div>"
            ],
            "text/plain": [
              "                                      alert_id\n",
              "src_acct                                      \n",
              "5c9c5809-d27d-4d3f-bbc4-0886de137a41         7\n",
              "db749698-b608-40b4-9679-9e027312660c         6\n",
              "4563fca4-383a-408f-bf78-a0255b2cd8e7         5\n",
              "d9cb07a0-8405-4435-9d4c-b81348aa7a42         5\n",
              "ea151653-ab77-4bbb-9a52-8fdcdf168f27         5\n",
              "f447a08f-310f-4e24-97a8-a610cf115457         5\n",
              "10b4ce98-b433-4d5d-9344-7b3f1e005c06         4\n",
              "153ff9a5-d48d-4d8b-b602-939d97a8e9ea         4\n",
              "21738e1e-c0a9-48ae-b507-1d719e1a156c         4\n",
              "37ac348c-7dcd-4023-a679-070ac22c87c6         4\n",
              "434792f2-854e-499c-8dfd-82584807c92d         4"
            ]
          },
          "metadata": {
            "tags": []
          },
          "execution_count": 9
        }
      ]
    },
    {
      "cell_type": "code",
      "metadata": {
        "id": "ICO37YqAjok_",
        "colab_type": "code",
        "outputId": "dddd2d20-214d-4840-f716-567b589bec6a",
        "colab": {
          "base_uri": "https://localhost:8080/",
          "height": 237
        }
      },
      "source": [
        "txBySourceNode = transactions.groupby('src_acct')\n",
        "txByTargetNode = transactions.groupby('rcv_acct')\n",
        "inDegree = txBySourceNode.size()\n",
        "outDegree = txByTargetNode.size()\n",
        "inVolume = txBySourceNode['amount'].sum().rename(columns={0:''})\n",
        "outVolume = txByTargetNode['amount'].sum().rename(columns={0:''})\n",
        "dfs = [nodes, inDegree, outDegree, inVolume, outVolume]\n",
        "colNames = {0: 'inDegree', 1:'outDegree', 2:'inVolume', 3:'outVolume'}\n",
        "\n",
        "\n",
        "#create dataframe that is ordered by inVolume\n",
        "#drop the first 18900 results \n",
        "#take each row and divide the inVolume by the max inVolume and ratio of Fraud to Non-Fraud\n",
        "nodesEnriched = pd.concat(dfs, axis=1, join='inner').rename(columns=colNames)\n",
        "nodesEnriched = nodesEnriched.sort_values(by=['inVolume'])\n",
        "nodesEnriched.insert(loc=0, column=\"row\", value=np.arange(len(nodesEnriched)))\n",
        "nodesEnriched.drop(nodesEnriched[nodesEnriched['row']<18900].index, inplace = True)\n",
        "nodesEnriched['inVolume'] = nodesEnriched['inVolume']/(70102.48*9.26)\n",
        "\n",
        "#create dataframe that is ordered by inDegree\n",
        "#drop the first 18900 results\n",
        "#take each row and divide the inDegree by the max inDegree and ratio of Fraud to Non-Fraud\n",
        "inTable = pd.concat(dfs, axis=1, join='inner').rename(columns=colNames)\n",
        "inTable = inTable.sort_values(by=['inDegree'])\n",
        "inTable.insert(loc=0, column='row', value=np.arange(len(inTable)))\n",
        "inTable.drop(inTable[inTable['row']< 18900].index, inplace=True)\n",
        "inTable['inDegree'] = inTable['inDegree']/(205*3.58)\n",
        "\n",
        "#create dataframe that is ordered by outDegree\n",
        "#drop the first 18900 results\n",
        "#take each row and divide the outDegree by the max outDegree and ratio of Fraud to Non-Fraud\n",
        "outTable = pd.concat(dfs, axis=1, join='inner').rename(columns=colNames)\n",
        "outTable = outTable.sort_values(by=['outDegree'])\n",
        "outTable.insert(loc=0, column='row', value=np.arange(len(outTable)))\n",
        "outTable.drop(outTable[outTable['row']<18900].index, inplace = True)\n",
        "outTable['outDegree'] = outTable['outDegree']/(171*2.5)\n",
        "\n",
        "\n",
        "#find the standard deviation of the txBySourceNode\n",
        "x=txBySourceNode.std(ddof=0)\n",
        "\n",
        "\n",
        "#create dataframe that is ordered by outVolume\n",
        "#drop the first 18900 results \n",
        "#take each row and divide different columns by there max values and there ratio of Fraud to Non-Fraud\n",
        "volumeTable = pd.concat(dfs, axis=1, join='inner').rename(columns=colNames)\n",
        "volumeTable = volumeTable.sort_values(by=['outVolume'])\n",
        "volumeTable.insert(loc=0, column=\"row\", value=np.arange(len(volumeTable)))\n",
        "volumeTable.drop(volumeTable[volumeTable['row']< 18900].index, inplace = True)\n",
        "volumeTable['inDegree'] = volumeTable['inDegree']/(205*3.58)\n",
        "volumeTable['outDegree'] = volumeTable['outDegree']/(171*2.5)\n",
        "volumeTable['inVolume'] = volumeTable['inVolume']/(70102.48*9.26)\n",
        "volumeTable['outVolume'] = volumeTable['outVolume']/(50080.75*4.57) \n",
        "\n",
        "#create dataframe\n",
        "#drop the first 18900 results\n",
        "#take each row and divide different columns by there max values and there ratio of Fraud to Non-Fraud\n",
        "#order the dataframe by the sum of the new values for inDegree, outDegree, inVolume and outVolume\n",
        "addedTable = pd.concat(dfs, axis=1, join='inner').rename(columns=colNames)\n",
        "addedTable.insert(loc=0,column='row', value=np.arange(len(addedTable)))\n",
        "addedTable.drop(addedTable[addedTable['row']< 18900].index, inplace = True)\n",
        "addedTable['inDegree'] = addedTable['inDegree']/(205*3.58)\n",
        "addedTable['outDegree'] = addedTable['outDegree']/(171*2.5)\n",
        "addedTable['inVolume'] = addedTable['inVolume']/(70102.48*9.26)\n",
        "addedTable['outVolume'] = addedTable['outVolume']/(50080.75*4.57)\n",
        "addedTable['sum'] = addedTable['inDegree'] + addedTable['outDegree'] + addedTable['inVolume'] + addedTable['outVolume']\n",
        "addedTable = addedTable.sort_values(by=['sum'])"
      ],
      "execution_count": 0,
      "outputs": [
        {
          "output_type": "error",
          "ename": "NameError",
          "evalue": "ignored",
          "traceback": [
            "\u001b[0;31m---------------------------------------------------------------------------\u001b[0m",
            "\u001b[0;31mNameError\u001b[0m                                 Traceback (most recent call last)",
            "\u001b[0;32m<ipython-input-10-72f4679cff8d>\u001b[0m in \u001b[0;36m<module>\u001b[0;34m()\u001b[0m\n\u001b[1;32m      5\u001b[0m \u001b[0minVolume\u001b[0m \u001b[0;34m=\u001b[0m \u001b[0mtxBySourceNode\u001b[0m\u001b[0;34m[\u001b[0m\u001b[0;34m'amount'\u001b[0m\u001b[0;34m]\u001b[0m\u001b[0;34m.\u001b[0m\u001b[0msum\u001b[0m\u001b[0;34m(\u001b[0m\u001b[0;34m)\u001b[0m\u001b[0;34m.\u001b[0m\u001b[0mrename\u001b[0m\u001b[0;34m(\u001b[0m\u001b[0mcolumns\u001b[0m\u001b[0;34m=\u001b[0m\u001b[0;34m{\u001b[0m\u001b[0;36m0\u001b[0m\u001b[0;34m:\u001b[0m\u001b[0;34m''\u001b[0m\u001b[0;34m}\u001b[0m\u001b[0;34m)\u001b[0m\u001b[0;34m\u001b[0m\u001b[0;34m\u001b[0m\u001b[0m\n\u001b[1;32m      6\u001b[0m \u001b[0moutVolume\u001b[0m \u001b[0;34m=\u001b[0m \u001b[0mtxByTargetNode\u001b[0m\u001b[0;34m[\u001b[0m\u001b[0;34m'amount'\u001b[0m\u001b[0;34m]\u001b[0m\u001b[0;34m.\u001b[0m\u001b[0msum\u001b[0m\u001b[0;34m(\u001b[0m\u001b[0;34m)\u001b[0m\u001b[0;34m.\u001b[0m\u001b[0mrename\u001b[0m\u001b[0;34m(\u001b[0m\u001b[0mcolumns\u001b[0m\u001b[0;34m=\u001b[0m\u001b[0;34m{\u001b[0m\u001b[0;36m0\u001b[0m\u001b[0;34m:\u001b[0m\u001b[0;34m''\u001b[0m\u001b[0;34m}\u001b[0m\u001b[0;34m)\u001b[0m\u001b[0;34m\u001b[0m\u001b[0;34m\u001b[0m\u001b[0m\n\u001b[0;32m----> 7\u001b[0;31m \u001b[0mdfs\u001b[0m \u001b[0;34m=\u001b[0m \u001b[0;34m[\u001b[0m\u001b[0mnodes\u001b[0m\u001b[0;34m,\u001b[0m \u001b[0minDegree\u001b[0m\u001b[0;34m,\u001b[0m \u001b[0moutDegree\u001b[0m\u001b[0;34m,\u001b[0m \u001b[0minVolume\u001b[0m\u001b[0;34m,\u001b[0m \u001b[0moutVolume\u001b[0m\u001b[0;34m]\u001b[0m\u001b[0;34m\u001b[0m\u001b[0;34m\u001b[0m\u001b[0m\n\u001b[0m\u001b[1;32m      8\u001b[0m \u001b[0mcolNames\u001b[0m \u001b[0;34m=\u001b[0m \u001b[0;34m{\u001b[0m\u001b[0;36m0\u001b[0m\u001b[0;34m:\u001b[0m \u001b[0;34m'inDegree'\u001b[0m\u001b[0;34m,\u001b[0m \u001b[0;36m1\u001b[0m\u001b[0;34m:\u001b[0m\u001b[0;34m'outDegree'\u001b[0m\u001b[0;34m,\u001b[0m \u001b[0;36m2\u001b[0m\u001b[0;34m:\u001b[0m\u001b[0;34m'inVolume'\u001b[0m\u001b[0;34m,\u001b[0m \u001b[0;36m3\u001b[0m\u001b[0;34m:\u001b[0m\u001b[0;34m'outVolume'\u001b[0m\u001b[0;34m}\u001b[0m\u001b[0;34m\u001b[0m\u001b[0;34m\u001b[0m\u001b[0m\n\u001b[1;32m      9\u001b[0m \u001b[0;34m\u001b[0m\u001b[0m\n",
            "\u001b[0;31mNameError\u001b[0m: name 'nodes' is not defined"
          ]
        }
      ]
    },
    {
      "cell_type": "code",
      "metadata": {
        "id": "FSIhFUV6sUSM",
        "colab_type": "code",
        "colab": {}
      },
      "source": [
        "\n",
        "addedTable.tail()\n",
        "addedTable.describe()\n"
      ],
      "execution_count": 0,
      "outputs": []
    },
    {
      "cell_type": "code",
      "metadata": {
        "id": "utiutQXVpCBp",
        "colab_type": "code",
        "colab": {}
      },
      "source": [
        ""
      ],
      "execution_count": 0,
      "outputs": []
    },
    {
      "cell_type": "code",
      "metadata": {
        "id": "3JqYoRLIpGIf",
        "colab_type": "code",
        "colab": {}
      },
      "source": [
        "#create a scatterplot of inVolume against outVolume\n",
        "ax1 = nodesEnriched.plot.scatter(x='inVolume', y='outVolume', c='isFraud', colormap='viridis')"
      ],
      "execution_count": 0,
      "outputs": []
    },
    {
      "cell_type": "code",
      "metadata": {
        "id": "RBbz9i55sRk_",
        "colab_type": "code",
        "colab": {}
      },
      "source": [
        ""
      ],
      "execution_count": 0,
      "outputs": []
    },
    {
      "cell_type": "code",
      "metadata": {
        "id": "ow_4UvOHpXeq",
        "colab_type": "code",
        "colab": {}
      },
      "source": [
        "#create scatterplot of row number against inVolume \n",
        "#where the row number has been ordered in size of inVolume\n",
        "ax2 = nodesEnriched.plot.scatter(x='row', y='inVolume', c='isFraud', colormap='viridis')"
      ],
      "execution_count": 0,
      "outputs": []
    },
    {
      "cell_type": "code",
      "metadata": {
        "id": "RxUA5Wf1pX6e",
        "colab_type": "code",
        "colab": {}
      },
      "source": [
        "#create scatterplot of row number against inDegree \n",
        "#where the row number has been ordered in size of inDegree\n",
        "ax3 = inTable.plot.scatter(x='row', y='inDegree', c='isFraud', colormap='viridis')"
      ],
      "execution_count": 0,
      "outputs": []
    },
    {
      "cell_type": "code",
      "metadata": {
        "id": "uhcMHiJ4pYnA",
        "colab_type": "code",
        "colab": {}
      },
      "source": [
        "#create scatterplot of row number against outDegree \n",
        "#where the row number has been ordered in size of outDegree\n",
        "ax4 = outTable.plot.scatter(x='row', y='outDegree', c='isFraud', colormap='viridis')"
      ],
      "execution_count": 0,
      "outputs": []
    },
    {
      "cell_type": "code",
      "metadata": {
        "id": "xfkgHVxVzL5n",
        "colab_type": "code",
        "colab": {}
      },
      "source": [
        "#create scatterplot of row number against outVolume \n",
        "#where the row number has been ordered in size of outVolume\n",
        "ax5 = volumeTable.plot.scatter(x='row', y='outVolume', c='isFraud', colormap='viridis')"
      ],
      "execution_count": 0,
      "outputs": []
    },
    {
      "cell_type": "code",
      "metadata": {
        "id": "xo7ZJyOC3PFs",
        "colab_type": "code",
        "colab": {}
      },
      "source": [
        "#create scatterplot of row number against sum of the columns \n",
        "#where the row number has been ordered in size of the sum\n",
        "ax6 = addedTable.plot.scatter(x='row', y='sum', c='isFraud', colormap='viridis')"
      ],
      "execution_count": 0,
      "outputs": []
    },
    {
      "cell_type": "code",
      "metadata": {
        "id": "RJuGCCj1AZV4",
        "colab_type": "code",
        "colab": {}
      },
      "source": [
        "#create scatterplot of row number against sum of the columns \n",
        "#where the row number has been ordered in size of the sum\n",
        "sns.lmplot(\"row\", \"sum\", data=addedTable, hue=\"isFraud\")\n"
      ],
      "execution_count": 0,
      "outputs": []
    },
    {
      "cell_type": "code",
      "metadata": {
        "id": "_N-9RcFQCmCn",
        "colab_type": "code",
        "colab": {}
      },
      "source": [
        "sns.set(rc={'figure.figsize':(30.6,15.9)})"
      ],
      "execution_count": 0,
      "outputs": []
    },
    {
      "cell_type": "code",
      "metadata": {
        "id": "6tikwdH3DbFK",
        "colab_type": "code",
        "colab": {}
      },
      "source": [
        "#create scatterplot of row number against sum of the columns \n",
        "#where the row number has been ordered in size of the sum\n",
        "sns.scatterplot(\"row\", \"sum\", data=addedTable, hue=\"isFraud\", size_order=[\"T1\",\"T2\"])"
      ],
      "execution_count": 0,
      "outputs": []
    }
  ]
}
