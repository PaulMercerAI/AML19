{
 "cells": [
  {
   "cell_type": "markdown",
   "metadata": {},
   "source": [
    "<h1><center> AML Detection Challenge\n",
    "    <br>\n",
    "    <br> Bayes Solution"
   ]
  },
  {
   "cell_type": "markdown",
   "metadata": {},
   "source": [
    "<h3>Imports"
   ]
  },
  {
   "cell_type": "code",
   "execution_count": 1,
   "metadata": {},
   "outputs": [],
   "source": [
    "import tqdm\n",
    "import pandas as pd                    \n",
    "import numpy as np  \n",
    "from matplotlib import pyplot as plt\n",
    "from sklearn.neighbors import KernelDensity\n",
    "from sklearn.model_selection import GridSearchCV\n",
    "from sklearn.model_selection import LeaveOneOut"
   ]
  },
  {
   "cell_type": "markdown",
   "metadata": {},
   "source": [
    "<h3> Load Data"
   ]
  },
  {
   "cell_type": "code",
   "execution_count": 2,
   "metadata": {},
   "outputs": [
    {
     "name": "stdout",
     "output_type": "stream",
     "text": [
      "Number of accounts:  10000\n",
      "Number of transactions:  515721\n",
      "Number of labelled transactions:  257787\n"
     ]
    }
   ],
   "source": [
    "#Point to file directory\n",
    "directory = \"D:\\\\Users\\\\dnicholson10\\\\Documents\\\\Projects\\\\LU Maths Challenge\\\\1. Data Generation\\\\\"\n",
    "\n",
    "#Load accounts data file\n",
    "file = \"20191111_Accounts.csv\"\n",
    "ac = pd.read_csv(directory+file)\n",
    "print('Number of accounts: ', len(ac))\n",
    "\n",
    "#Load transactions data file \n",
    "file = \"20191111_Transactions.csv\"\n",
    "date = ['timestamp']\n",
    "tx = pd.read_csv(directory+file, parse_dates=date)\n",
    "print('Number of transactions: ', len(tx))\n",
    "print('Number of labelled transactions: ', len(tx[tx.is_suspx!='Unknown']))"
   ]
  },
  {
   "cell_type": "markdown",
   "metadata": {},
   "source": [
    "<h3>Plot amount densities"
   ]
  },
  {
   "cell_type": "code",
   "execution_count": 6,
   "metadata": {},
   "outputs": [
    {
     "data": {
      "image/png": "[encoded data removed]",
      "text/plain": [
       "<Figure size 720x720 with 1 Axes>"
      ]
     },
     "metadata": {},
     "output_type": "display_data"
    }
   ],
   "source": [
    "fig, ax = plt.subplots(figsize=(10,10))\n",
    "tx_1 = tx[tx['is_suspx']=='True']  \n",
    "tx_0 = tx[tx['is_suspx']=='False']\n",
    "_, bins, _ = plt.hist(tx_0['amount'], bins=100, density=True, alpha=0.8, label='FALSE')\n",
    "_ = plt.hist(tx_1['amount'], bins=bins, alpha=0.8, density=True, label='TRUE')\n",
    "plt.legend(loc='best')\n",
    "plt.xlim([0,800])\n",
    "plt.xlabel('amount'), plt.ylabel('p(amount)')\n",
    "plt.show()"
   ]
  },
  {
   "cell_type": "markdown",
   "metadata": {},
   "source": [
    "<h3>Kernel Density Estimation"
   ]
  },
  {
   "cell_type": "code",
   "execution_count": 8,
   "metadata": {},
   "outputs": [
    {
     "data": {
      "text/plain": [
       "(0, 800)"
      ]
     },
     "execution_count": 8,
     "metadata": {},
     "output_type": "execute_result"
    },
    {
     "data": {
      "image/png": "[encoded data removed]",
      "text/plain": [
       "<Figure size 432x288 with 1 Axes>"
      ]
     },
     "metadata": {},
     "output_type": "display_data"
    }
   ],
   "source": [
    "# extract amount vector\n",
    "x = tx_0['amount'].values\n",
    "\n",
    "# fit density to data\n",
    "kde = KernelDensity(bandwidth=1.0, kernel='gaussian')\n",
    "kde.fit(x[:,None])\n",
    "\n",
    "# score uniform test samples\n",
    "x_d = np.linspace(0, 800, 100)\n",
    "logprob = kde.score_samples(x_d[:,None])\n",
    "\n",
    "plt.fill_between(x_d, np.exp(logprob), alpha=0.5)\n",
    "plt.xlim(0, 800)"
   ]
  },
  {
   "cell_type": "markdown",
   "metadata": {},
   "source": [
    "<h3>Bayes Classification"
   ]
  },
  {
   "cell_type": "code",
   "execution_count": 10,
   "metadata": {},
   "outputs": [],
   "source": [
    "def predict_proba(train, test):\n",
    "    \n",
    "    bandwidths = [1.0, 1.0]\n",
    "    kernels = ['gaussian', 'gaussian']\n",
    "    C = ['False', 'True']\n",
    "    \n",
    "    result = np.empty(shape=(2,len(test)))\n",
    "    for i in range(2):\n",
    "\n",
    "        temp = train[train['is_suspx']==C[i]]\n",
    "        Xi = temp['amount'].values\n",
    "        model = KernelDensity(bandwidth=bandwidths[i], kernel=kernels[i]).fit(Xi[:,None])\n",
    "        \n",
    "        #need to work with log probability because multiplication causes numerical underflow\n",
    "        logprior = np.log(Xi.shape[0]/len(train))\n",
    "        \n",
    "        Xt = test['amount'].values\n",
    "        logprob = np.array(model.score_samples(Xt[:,None])).T \n",
    "        prob = np.exp(logprior + logprob) # Bayes Theorem\n",
    "        result[i,:] = prob\n",
    "    return result / result.sum(0, keepdims=True)\n",
    "\n",
    "#Extract what we need from Tx\n",
    "temp = tx[tx['is_suspx']!='Unknown']\n",
    "train = temp[['amount','is_suspx']]\n",
    "temp = tx[tx['is_suspx']=='Unknown']\n",
    "test = temp[['id','amount']]\n",
    "#Predict probabilities\n",
    "probs = predict_proba(train, test)"
   ]
  },
  {
   "cell_type": "markdown",
   "metadata": {},
   "source": [
    "<h3>Create a submission file"
   ]
  },
  {
   "cell_type": "code",
   "execution_count": 14,
   "metadata": {},
   "outputs": [
    {
     "name": "stderr",
     "output_type": "stream",
     "text": [
      "d:\\users\\dnicholson10\\appdata\\local\\programs\\python\\python36\\lib\\site-packages\\ipykernel_launcher.py:1: SettingWithCopyWarning: \n",
      "A value is trying to be set on a copy of a slice from a DataFrame.\n",
      "Try using .loc[row_indexer,col_indexer] = value instead\n",
      "\n",
      "See the caveats in the documentation: http://pandas.pydata.org/pandas-docs/stable/indexing.html#indexing-view-versus-copy\n",
      "  \"\"\"Entry point for launching an IPython kernel.\n",
      "d:\\users\\dnicholson10\\appdata\\local\\programs\\python\\python36\\lib\\site-packages\\ipykernel_launcher.py:2: SettingWithCopyWarning: \n",
      "A value is trying to be set on a copy of a slice from a DataFrame.\n",
      "Try using .loc[row_indexer,col_indexer] = value instead\n",
      "\n",
      "See the caveats in the documentation: http://pandas.pydata.org/pandas-docs/stable/indexing.html#indexing-view-versus-copy\n",
      "  \n"
     ]
    }
   ],
   "source": [
    "test['P'] = probs[1,:]\n",
    "test['alert_type'] = 'A1'\n",
    "test2 = test.sort_values(by='P', ascending=False)\n",
    "submit = test2.iloc[0:1000,:]\n",
    "submit = submit[['id','P','alert_type']].set_index('id')\n",
    "submit.to_csv('results.tsv', sep='\\t')"
   ]
  },
  {
   "cell_type": "code",
   "execution_count": null,
   "metadata": {},
   "outputs": [],
   "source": []
  },
  {
   "cell_type": "code",
   "execution_count": null,
   "metadata": {},
   "outputs": [],
   "source": []
  }
 ],
 "metadata": {
  "kernelspec": {
   "display_name": "Python 3",
   "language": "python",
   "name": "python3"
  },
  "language_info": {
   "codemirror_mode": {
    "name": "ipython",
    "version": 3
   },
   "file_extension": ".py",
   "mimetype": "text/x-python",
   "name": "python",
   "nbconvert_exporter": "python",
   "pygments_lexer": "ipython3",
   "version": "3.6.5"
  }
 },
 "nbformat": 4,
 "nbformat_minor": 2
}
