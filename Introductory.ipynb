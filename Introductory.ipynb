{
  "nbformat": 4,
  "nbformat_minor": 0,
  "metadata": {
    "kernelspec": {
      "display_name": "Python 3",
      "language": "python",
      "name": "python3"
    },
    "language_info": {
      "codemirror_mode": {
        "name": "ipython",
        "version": 3
      },
      "file_extension": ".py",
      "mimetype": "text/x-python",
      "name": "python",
      "nbconvert_exporter": "python",
      "pygments_lexer": "ipython3",
      "version": "3.6.5"
    },
    "colab": {
      "name": "Introductory.ipynb",
      "provenance": []
    }
  },
  "cells": [
    {
      "cell_type": "markdown",
      "metadata": {
        "id": "2M5zWZbYp0V4",
        "colab_type": "text"
      },
      "source": [
        "<h1><center> AML Detection Challenge\n",
        "    <br>\n",
        "    <br> Starter Solution Notebook"
      ]
    },
    {
      "cell_type": "markdown",
      "metadata": {
        "id": "tlthZjoxp0WA",
        "colab_type": "text"
      },
      "source": [
        "<h3>Imports\n",
        "Include URLs to relevant examples"
      ]
    },
    {
      "cell_type": "code",
      "metadata": {
        "id": "zA8xvzKvp0WG",
        "colab_type": "code",
        "colab": {}
      },
      "source": [
        "import pandas as pd                    #Data structuring and analysis\n",
        "import numpy as np                     #Arrays, matrices, linear algebra\n",
        "import networkx as nx                  #Network / graph analysis\n",
        "import sklearn as sk                   #Data analysis, machine learning\n",
        "\n",
        "import copy\n",
        "import tqdm                            #Utility to display progress bar\n",
        "import datetime                        #Date and time representations\n",
        "import seaborn as sns                  #Plotting and visualisation\n",
        "from matplotlib import pyplot as plt   #Plotting and visualisation"
      ],
      "execution_count": 0,
      "outputs": []
    },
    {
      "cell_type": "markdown",
      "metadata": {
        "id": "RHp260v3p0WT",
        "colab_type": "text"
      },
      "source": [
        "<h3> Load Data"
      ]
    },
    {
      "cell_type": "code",
      "metadata": {
        "id": "dsH3wZxGp-xW",
        "colab_type": "code",
        "colab": {
          "base_uri": "https://localhost:8080/",
          "height": 146
        },
        "outputId": "041a5491-4eab-4c58-c0e9-b012c228dae6"
      },
      "source": [
        "print('Downloading data locally')\n",
        "!curl https://raw.githubusercontent.com/PaulMercerAI/AML19/master/data/20191111_Accounts.csv.xz -L | xzcat > accounts.csv\n",
        "!curl https://raw.githubusercontent.com/PaulMercerAI/AML19/master/data/20191111_Transactions.csv.xz -L | xzcat > transactions.csv"
      ],
      "execution_count": 2,
      "outputs": [
        {
          "output_type": "stream",
          "text": [
            "Downloading data locally\n",
            "  % Total    % Received % Xferd  Average Speed   Time    Time     Time  Current\n",
            "                                 Dload  Upload   Total   Spent    Left  Speed\n",
            "100  302k  100  302k    0     0  54340      0  0:00:05  0:00:05 --:--:-- 73899\n",
            "  % Total    % Received % Xferd  Average Speed   Time    Time     Time  Current\n",
            "                                 Dload  Upload   Total   Spent    Left  Speed\n",
            "100 5022k  100 5022k    0     0  5052k      0 --:--:-- --:--:-- --:--:-- 5047k\n"
          ],
          "name": "stdout"
        }
      ]
    },
    {
      "cell_type": "code",
      "metadata": {
        "id": "FHAk_fT2p0WV",
        "colab_type": "code",
        "colab": {
          "base_uri": "https://localhost:8080/",
          "height": 72
        },
        "outputId": "31931844-7643-4b50-d2bf-6ebd4199a99b"
      },
      "source": [
        "#Load accounts data file\n",
        "ac = pd.read_csv(\"accounts.csv\")\n",
        "print('Number of accounts: ', len(ac))\n",
        "\n",
        "#Load transactions data file \n",
        "date = ['timestamp']\n",
        "tx = pd.read_csv(\"transactions.csv\", parse_dates=date)\n",
        "print('Number of transactions: ', len(tx))\n",
        "print('Number of labelled transactions: ', len(tx[tx.is_suspx!='Unknown']))"
      ],
      "execution_count": 4,
      "outputs": [
        {
          "output_type": "stream",
          "text": [
            "Number of accounts:  10000\n",
            "Number of transactions:  515721\n",
            "Number of labelled transactions:  257787\n"
          ],
          "name": "stdout"
        }
      ]
    },
    {
      "cell_type": "markdown",
      "metadata": {
        "id": "ZhyjQmo3p0Wg",
        "colab_type": "text"
      },
      "source": [
        "<h3>Inspect Data"
      ]
    },
    {
      "cell_type": "code",
      "metadata": {
        "id": "vOntqVGYp0Wj",
        "colab_type": "code",
        "colab": {
          "base_uri": "https://localhost:8080/",
          "height": 764
        },
        "outputId": "1a1643b8-3503-41c4-d5a9-ce8901015388"
      },
      "source": [
        "# Printing top 10 rows of accounts data\n",
        "print('Top 10 rows from the accounts dataset:')\n",
        "display(ac.head(10))\n",
        "\n",
        "#printing top 10 rows of transactions data\n",
        "print('\\nTop 10 rows from the transactions dataset:')\n",
        "display(tx.head(10))"
      ],
      "execution_count": 5,
      "outputs": [
        {
          "output_type": "stream",
          "text": [
            "Top 10 rows from the accounts dataset:\n"
          ],
          "name": "stdout"
        },
        {
          "output_type": "display_data",
          "data": {
            "text/html": [
              "<div>\n",
              "<style scoped>\n",
              "    .dataframe tbody tr th:only-of-type {\n",
              "        vertical-align: middle;\n",
              "    }\n",
              "\n",
              "    .dataframe tbody tr th {\n",
              "        vertical-align: top;\n",
              "    }\n",
              "\n",
              "    .dataframe thead th {\n",
              "        text-align: right;\n",
              "    }\n",
              "</style>\n",
              "<table border=\"1\" class=\"dataframe\">\n",
              "  <thead>\n",
              "    <tr style=\"text-align: right;\">\n",
              "      <th></th>\n",
              "      <th>acct_id</th>\n",
              "      <th>initial_deposit</th>\n",
              "      <th>cust_forname</th>\n",
              "      <th>cust_surname</th>\n",
              "      <th>cust_gender</th>\n",
              "      <th>cust_birthdate</th>\n",
              "    </tr>\n",
              "  </thead>\n",
              "  <tbody>\n",
              "    <tr>\n",
              "      <th>0</th>\n",
              "      <td>bdd640fb-0667-4ad1-9c80-317fa3b1799d</td>\n",
              "      <td>92221.09</td>\n",
              "      <td>Terry</td>\n",
              "      <td>Knight</td>\n",
              "      <td>m</td>\n",
              "      <td>1971-12-06</td>\n",
              "    </tr>\n",
              "    <tr>\n",
              "      <th>1</th>\n",
              "      <td>23b8c1e9-3924-46de-beb1-3b9046685257</td>\n",
              "      <td>87897.72</td>\n",
              "      <td>Lesley</td>\n",
              "      <td>Walsh</td>\n",
              "      <td>f</td>\n",
              "      <td>1954-02-06</td>\n",
              "    </tr>\n",
              "    <tr>\n",
              "      <th>2</th>\n",
              "      <td>bd9c66b3-ad3c-4d6d-9a3d-1fa7bc8960a9</td>\n",
              "      <td>71028.58</td>\n",
              "      <td>Lynne</td>\n",
              "      <td>Taylor</td>\n",
              "      <td>f</td>\n",
              "      <td>1965-04-12</td>\n",
              "    </tr>\n",
              "    <tr>\n",
              "      <th>3</th>\n",
              "      <td>972a8469-1641-4f82-8b9d-2434e465e150</td>\n",
              "      <td>62945.84</td>\n",
              "      <td>Naomi</td>\n",
              "      <td>Hill</td>\n",
              "      <td>f</td>\n",
              "      <td>1958-11-16</td>\n",
              "    </tr>\n",
              "    <tr>\n",
              "      <th>4</th>\n",
              "      <td>17fc695a-07a0-4a6e-8822-e8f36c031199</td>\n",
              "      <td>75563.74</td>\n",
              "      <td>Abbie</td>\n",
              "      <td>Jones</td>\n",
              "      <td>f</td>\n",
              "      <td>1976-03-31</td>\n",
              "    </tr>\n",
              "    <tr>\n",
              "      <th>5</th>\n",
              "      <td>9a1de644-815e-46d1-bb8f-aa1837f8a88b</td>\n",
              "      <td>70246.71</td>\n",
              "      <td>Brenda</td>\n",
              "      <td>Clarke</td>\n",
              "      <td>f</td>\n",
              "      <td>1998-06-12</td>\n",
              "    </tr>\n",
              "    <tr>\n",
              "      <th>6</th>\n",
              "      <td>b74d0fb1-32e7-4629-8fad-c1a606cb0fb3</td>\n",
              "      <td>89189.93</td>\n",
              "      <td>Liam</td>\n",
              "      <td>Howard</td>\n",
              "      <td>m</td>\n",
              "      <td>1960-11-04</td>\n",
              "    </tr>\n",
              "    <tr>\n",
              "      <th>7</th>\n",
              "      <td>6b65a6a4-8b81-48f6-b38a-088ca65ed389</td>\n",
              "      <td>65165.64</td>\n",
              "      <td>Benjamin</td>\n",
              "      <td>Graham</td>\n",
              "      <td>m</td>\n",
              "      <td>1981-09-02</td>\n",
              "    </tr>\n",
              "    <tr>\n",
              "      <th>8</th>\n",
              "      <td>47378190-96da-4dac-b2ff-5d2a386ecbe0</td>\n",
              "      <td>73829.85</td>\n",
              "      <td>Alan</td>\n",
              "      <td>Carter</td>\n",
              "      <td>m</td>\n",
              "      <td>1980-06-28</td>\n",
              "    </tr>\n",
              "    <tr>\n",
              "      <th>9</th>\n",
              "      <td>c241330b-01a9-471f-9e8a-774bcf36d58b</td>\n",
              "      <td>79169.10</td>\n",
              "      <td>Bryan</td>\n",
              "      <td>Riley</td>\n",
              "      <td>m</td>\n",
              "      <td>1982-03-19</td>\n",
              "    </tr>\n",
              "  </tbody>\n",
              "</table>\n",
              "</div>"
            ],
            "text/plain": [
              "                                acct_id  ...  cust_birthdate\n",
              "0  bdd640fb-0667-4ad1-9c80-317fa3b1799d  ...      1971-12-06\n",
              "1  23b8c1e9-3924-46de-beb1-3b9046685257  ...      1954-02-06\n",
              "2  bd9c66b3-ad3c-4d6d-9a3d-1fa7bc8960a9  ...      1965-04-12\n",
              "3  972a8469-1641-4f82-8b9d-2434e465e150  ...      1958-11-16\n",
              "4  17fc695a-07a0-4a6e-8822-e8f36c031199  ...      1976-03-31\n",
              "5  9a1de644-815e-46d1-bb8f-aa1837f8a88b  ...      1998-06-12\n",
              "6  b74d0fb1-32e7-4629-8fad-c1a606cb0fb3  ...      1960-11-04\n",
              "7  6b65a6a4-8b81-48f6-b38a-088ca65ed389  ...      1981-09-02\n",
              "8  47378190-96da-4dac-b2ff-5d2a386ecbe0  ...      1980-06-28\n",
              "9  c241330b-01a9-471f-9e8a-774bcf36d58b  ...      1982-03-19\n",
              "\n",
              "[10 rows x 6 columns]"
            ]
          },
          "metadata": {
            "tags": []
          }
        },
        {
          "output_type": "stream",
          "text": [
            "\n",
            "Top 10 rows from the transactions dataset:\n"
          ],
          "name": "stdout"
        },
        {
          "output_type": "display_data",
          "data": {
            "text/html": [
              "<div>\n",
              "<style scoped>\n",
              "    .dataframe tbody tr th:only-of-type {\n",
              "        vertical-align: middle;\n",
              "    }\n",
              "\n",
              "    .dataframe tbody tr th {\n",
              "        vertical-align: top;\n",
              "    }\n",
              "\n",
              "    .dataframe thead th {\n",
              "        text-align: right;\n",
              "    }\n",
              "</style>\n",
              "<table border=\"1\" class=\"dataframe\">\n",
              "  <thead>\n",
              "    <tr style=\"text-align: right;\">\n",
              "      <th></th>\n",
              "      <th>id</th>\n",
              "      <th>timestamp</th>\n",
              "      <th>sender_account</th>\n",
              "      <th>receiver_account</th>\n",
              "      <th>amount</th>\n",
              "      <th>is_suspx</th>\n",
              "      <th>alert_type</th>\n",
              "      <th>alert_id</th>\n",
              "    </tr>\n",
              "  </thead>\n",
              "  <tbody>\n",
              "    <tr>\n",
              "      <th>0</th>\n",
              "      <td>1</td>\n",
              "      <td>2017-01-01 00:00:00+00:00</td>\n",
              "      <td>95eb44d9-8459-4302-8d1d-036e0d08da99</td>\n",
              "      <td>614996d1-01db-40b4-8422-1bf274faebdd</td>\n",
              "      <td>413.96</td>\n",
              "      <td>Unknown</td>\n",
              "      <td>Unknown</td>\n",
              "      <td>Unknown</td>\n",
              "    </tr>\n",
              "    <tr>\n",
              "      <th>1</th>\n",
              "      <td>2</td>\n",
              "      <td>2017-01-01 00:00:00+00:00</td>\n",
              "      <td>8735b2bb-35bd-41ea-8799-6e3ba360c4cb</td>\n",
              "      <td>c5798f5d-9690-40b0-9182-88dd16965a15</td>\n",
              "      <td>334.40</td>\n",
              "      <td>Unknown</td>\n",
              "      <td>Unknown</td>\n",
              "      <td>Unknown</td>\n",
              "    </tr>\n",
              "    <tr>\n",
              "      <th>2</th>\n",
              "      <td>3</td>\n",
              "      <td>2017-01-01 00:00:00+00:00</td>\n",
              "      <td>6a036e2f-5108-4482-bdb7-7a79990501f8</td>\n",
              "      <td>1eac66fe-fc30-477c-8f58-ed08f5b917b1</td>\n",
              "      <td>455.65</td>\n",
              "      <td>Unknown</td>\n",
              "      <td>Unknown</td>\n",
              "      <td>Unknown</td>\n",
              "    </tr>\n",
              "    <tr>\n",
              "      <th>3</th>\n",
              "      <td>4</td>\n",
              "      <td>2017-01-01 00:00:00+00:00</td>\n",
              "      <td>d298404d-96f6-4fa1-9951-9ab3bf5eaf8e</td>\n",
              "      <td>4aeeccef-871c-4a58-9334-dce93145d4c5</td>\n",
              "      <td>351.14</td>\n",
              "      <td>Unknown</td>\n",
              "      <td>Unknown</td>\n",
              "      <td>Unknown</td>\n",
              "    </tr>\n",
              "    <tr>\n",
              "      <th>4</th>\n",
              "      <td>5</td>\n",
              "      <td>2017-01-01 00:00:00+00:00</td>\n",
              "      <td>8a55a14b-51f5-48f9-bc15-ae1fefda21b2</td>\n",
              "      <td>53ae0bce-0ccc-4432-a913-ed3b7f5c62cc</td>\n",
              "      <td>438.76</td>\n",
              "      <td>Unknown</td>\n",
              "      <td>Unknown</td>\n",
              "      <td>Unknown</td>\n",
              "    </tr>\n",
              "    <tr>\n",
              "      <th>5</th>\n",
              "      <td>6</td>\n",
              "      <td>2017-01-01 00:00:00+00:00</td>\n",
              "      <td>2b5997f2-c447-4e3f-8525-c1b4f73c6a1f</td>\n",
              "      <td>0570ea72-a167-40f7-9de8-f62bd45f8e7f</td>\n",
              "      <td>413.58</td>\n",
              "      <td>False</td>\n",
              "      <td>-</td>\n",
              "      <td>-</td>\n",
              "    </tr>\n",
              "    <tr>\n",
              "      <th>6</th>\n",
              "      <td>7</td>\n",
              "      <td>2017-01-01 00:00:00+00:00</td>\n",
              "      <td>8e687e83-0023-43a5-b8b0-42dac52a0570</td>\n",
              "      <td>a8449e0b-2ac2-4c1e-8a83-e68d46eed033</td>\n",
              "      <td>422.26</td>\n",
              "      <td>False</td>\n",
              "      <td>-</td>\n",
              "      <td>-</td>\n",
              "    </tr>\n",
              "    <tr>\n",
              "      <th>7</th>\n",
              "      <td>8</td>\n",
              "      <td>2017-01-01 00:00:00+00:00</td>\n",
              "      <td>d8e06ea2-de5e-48e5-bb3a-3e15ef1920da</td>\n",
              "      <td>47d9dd10-272d-4ace-bfd0-dce0612c3b0d</td>\n",
              "      <td>338.46</td>\n",
              "      <td>False</td>\n",
              "      <td>-</td>\n",
              "      <td>-</td>\n",
              "    </tr>\n",
              "    <tr>\n",
              "      <th>8</th>\n",
              "      <td>9</td>\n",
              "      <td>2017-01-01 00:00:00+00:00</td>\n",
              "      <td>1a0c0048-7108-4569-908d-6ac75baca439</td>\n",
              "      <td>46a1c19b-d238-4804-8a8c-e2d7bdeb7527</td>\n",
              "      <td>330.01</td>\n",
              "      <td>Unknown</td>\n",
              "      <td>Unknown</td>\n",
              "      <td>Unknown</td>\n",
              "    </tr>\n",
              "    <tr>\n",
              "      <th>9</th>\n",
              "      <td>10</td>\n",
              "      <td>2017-01-01 00:00:00+00:00</td>\n",
              "      <td>70b3e6df-c9c3-4dd8-a5a7-970558e8f1db</td>\n",
              "      <td>7aa83419-7479-4994-a2fe-9cb4fcec1791</td>\n",
              "      <td>469.80</td>\n",
              "      <td>False</td>\n",
              "      <td>-</td>\n",
              "      <td>-</td>\n",
              "    </tr>\n",
              "  </tbody>\n",
              "</table>\n",
              "</div>"
            ],
            "text/plain": [
              "   id                 timestamp  ... alert_type alert_id\n",
              "0   1 2017-01-01 00:00:00+00:00  ...    Unknown  Unknown\n",
              "1   2 2017-01-01 00:00:00+00:00  ...    Unknown  Unknown\n",
              "2   3 2017-01-01 00:00:00+00:00  ...    Unknown  Unknown\n",
              "3   4 2017-01-01 00:00:00+00:00  ...    Unknown  Unknown\n",
              "4   5 2017-01-01 00:00:00+00:00  ...    Unknown  Unknown\n",
              "5   6 2017-01-01 00:00:00+00:00  ...          -        -\n",
              "6   7 2017-01-01 00:00:00+00:00  ...          -        -\n",
              "7   8 2017-01-01 00:00:00+00:00  ...          -        -\n",
              "8   9 2017-01-01 00:00:00+00:00  ...    Unknown  Unknown\n",
              "9  10 2017-01-01 00:00:00+00:00  ...          -        -\n",
              "\n",
              "[10 rows x 8 columns]"
            ]
          },
          "metadata": {
            "tags": []
          }
        }
      ]
    },
    {
      "cell_type": "markdown",
      "metadata": {
        "id": "wXC326Uyp0Wy",
        "colab_type": "text"
      },
      "source": [
        "Data Dictionary\n",
        "\n",
        "|Field Name|Data Type|Description|\n",
        "|----------|---------|-----------|\n",
        "|id|Int|Id number of the transaction|\n",
        "|timestamp|Date Type|Time at which the transaction took place|\n",
        "|sender_account|String|Unique Id the account from which the transaction was made. This will match to the accounts table.|\n",
        "|receiver_account|String|Unique Id of account to which the transaction was made. This will match to the accounts table.|\n",
        "|amount|Float|The value of the transaction made.|\n",
        "|is_suspx|String|Flags if the transaction is suspicious. This is a target column.|\n",
        "|alert_id|String|Id of the alert that has been generated.|\n",
        "|alert_type|String|Type of alert that has been generated. This is a target column.|"
      ]
    },
    {
      "cell_type": "markdown",
      "metadata": {
        "id": "YQr2USuup0W2",
        "colab_type": "text"
      },
      "source": [
        "<h3>Inspect an alert"
      ]
    },
    {
      "cell_type": "code",
      "metadata": {
        "scrolled": false,
        "id": "z1_GjunTp0W5",
        "colab_type": "code",
        "colab": {
          "base_uri": "https://localhost:8080/",
          "height": 256
        },
        "outputId": "4f1e2ce9-4ff4-4bef-a682-cc36fa70ca79"
      },
      "source": [
        "# Next command gets the first A4 type alert id. \n",
        "# Hopefully the filter for A4 type alerts is obvious. \n",
        "# Then we select just the alert_id column to get an array (matrix with a single x dimension) of length len(tx)\n",
        "# [0:1] means take 1 element from the array starting at element 0, but that returns an array, so to get just the value we add [0]\n",
        "id = tx[tx.alert_type=='A4'].alert_id.unique()[0:1][0]\n",
        "print(\"Inspecting alert id:\"+id)\n",
        "tx[tx.alert_id==id] \n",
        "#A4 type was selected because the sender/receiver arrangement is more interesting than usual for this type"
      ],
      "execution_count": 22,
      "outputs": [
        {
          "output_type": "stream",
          "text": [
            "Inspecting alert id:36\n"
          ],
          "name": "stdout"
        },
        {
          "output_type": "execute_result",
          "data": {
            "text/html": [
              "<div>\n",
              "<style scoped>\n",
              "    .dataframe tbody tr th:only-of-type {\n",
              "        vertical-align: middle;\n",
              "    }\n",
              "\n",
              "    .dataframe tbody tr th {\n",
              "        vertical-align: top;\n",
              "    }\n",
              "\n",
              "    .dataframe thead th {\n",
              "        text-align: right;\n",
              "    }\n",
              "</style>\n",
              "<table border=\"1\" class=\"dataframe\">\n",
              "  <thead>\n",
              "    <tr style=\"text-align: right;\">\n",
              "      <th></th>\n",
              "      <th>id</th>\n",
              "      <th>timestamp</th>\n",
              "      <th>sender_account</th>\n",
              "      <th>receiver_account</th>\n",
              "      <th>amount</th>\n",
              "      <th>is_suspx</th>\n",
              "      <th>alert_type</th>\n",
              "      <th>alert_id</th>\n",
              "    </tr>\n",
              "  </thead>\n",
              "  <tbody>\n",
              "    <tr>\n",
              "      <th>484</th>\n",
              "      <td>485</td>\n",
              "      <td>2017-01-01 00:00:00+00:00</td>\n",
              "      <td>9458054e-c287-4f06-9050-f7efc1235c91</td>\n",
              "      <td>37663e35-cdba-4cac-be85-f617f17e993d</td>\n",
              "      <td>350.40</td>\n",
              "      <td>True</td>\n",
              "      <td>A4</td>\n",
              "      <td>36</td>\n",
              "    </tr>\n",
              "    <tr>\n",
              "      <th>42719</th>\n",
              "      <td>42720</td>\n",
              "      <td>2017-03-01 00:00:00+00:00</td>\n",
              "      <td>8bc85d37-09cc-4f1a-9c38-7c2a1243e838</td>\n",
              "      <td>37663e35-cdba-4cac-be85-f617f17e993d</td>\n",
              "      <td>341.73</td>\n",
              "      <td>True</td>\n",
              "      <td>A4</td>\n",
              "      <td>36</td>\n",
              "    </tr>\n",
              "    <tr>\n",
              "      <th>46049</th>\n",
              "      <td>46050</td>\n",
              "      <td>2017-03-06 00:00:00+00:00</td>\n",
              "      <td>202a9ced-885a-4b35-9b8e-e298f561f4c3</td>\n",
              "      <td>37663e35-cdba-4cac-be85-f617f17e993d</td>\n",
              "      <td>354.55</td>\n",
              "      <td>True</td>\n",
              "      <td>A4</td>\n",
              "      <td>36</td>\n",
              "    </tr>\n",
              "    <tr>\n",
              "      <th>276920</th>\n",
              "      <td>276921</td>\n",
              "      <td>2018-01-22 00:00:00+00:00</td>\n",
              "      <td>37663e35-cdba-4cac-be85-f617f17e993d</td>\n",
              "      <td>6d3026db-20f8-460c-bf10-545a1dd3c5d2</td>\n",
              "      <td>312.47</td>\n",
              "      <td>True</td>\n",
              "      <td>A4</td>\n",
              "      <td>36</td>\n",
              "    </tr>\n",
              "    <tr>\n",
              "      <th>367190</th>\n",
              "      <td>367191</td>\n",
              "      <td>2018-05-28 00:00:00+00:00</td>\n",
              "      <td>37663e35-cdba-4cac-be85-f617f17e993d</td>\n",
              "      <td>3ad96cc4-c0ac-4a64-a426-d1c1feb24920</td>\n",
              "      <td>313.69</td>\n",
              "      <td>True</td>\n",
              "      <td>A4</td>\n",
              "      <td>36</td>\n",
              "    </tr>\n",
              "    <tr>\n",
              "      <th>438425</th>\n",
              "      <td>438426</td>\n",
              "      <td>2018-09-05 00:00:00+00:00</td>\n",
              "      <td>37663e35-cdba-4cac-be85-f617f17e993d</td>\n",
              "      <td>c9ceacdb-9f24-4788-805c-c2d749fa68d6</td>\n",
              "      <td>313.14</td>\n",
              "      <td>True</td>\n",
              "      <td>A4</td>\n",
              "      <td>36</td>\n",
              "    </tr>\n",
              "  </tbody>\n",
              "</table>\n",
              "</div>"
            ],
            "text/plain": [
              "            id                 timestamp  ... alert_type alert_id\n",
              "484        485 2017-01-01 00:00:00+00:00  ...         A4       36\n",
              "42719    42720 2017-03-01 00:00:00+00:00  ...         A4       36\n",
              "46049    46050 2017-03-06 00:00:00+00:00  ...         A4       36\n",
              "276920  276921 2018-01-22 00:00:00+00:00  ...         A4       36\n",
              "367190  367191 2018-05-28 00:00:00+00:00  ...         A4       36\n",
              "438425  438426 2018-09-05 00:00:00+00:00  ...         A4       36\n",
              "\n",
              "[6 rows x 8 columns]"
            ]
          },
          "metadata": {
            "tags": []
          },
          "execution_count": 22
        }
      ]
    },
    {
      "cell_type": "markdown",
      "metadata": {
        "id": "rPJ4zmA1p0XB",
        "colab_type": "text"
      },
      "source": [
        "<h3>Visualise amount densities"
      ]
    },
    {
      "cell_type": "code",
      "metadata": {
        "id": "dFO3d5bvp0XE",
        "colab_type": "code",
        "colab": {
          "base_uri": "https://localhost:8080/",
          "height": 606
        },
        "outputId": "e141cd0b-9ff4-4fcf-8187-41734ddde1aa"
      },
      "source": [
        "tx_0 = tx[tx['is_suspx']=='False'] #create a new matrix with the subset of transactions defined by the filter\n",
        "tx_1 = tx[tx['is_suspx']=='True']  \n",
        "\n",
        "#Don't worry too much about this. Just play with the density and alpha values to see what they do.\n",
        "fig, ax = plt.subplots(figsize=(10,10))\n",
        "_, bins, _ = plt.hist(tx_0['amount'], bins=100, density=True, alpha=0.8, label='FALSE')\n",
        "_ = plt.hist(tx_1['amount'], bins=bins, alpha=0.8, density=True, label='TRUE')\n",
        "plt.legend(loc='best')\n",
        "plt.xlim([0,800])\n",
        "plt.xlabel('amount'), plt.ylabel('p(amount)')\n",
        "plt.show()\n",
        "# https://matplotlib.org/api/pyplot_api.html"
      ],
      "execution_count": 23,
      "outputs": [
        {
          "output_type": "display_data",
          "data": {
            "image/png": "[encoded data removed]",
            "text/plain": [
              "<Figure size 720x720 with 1 Axes>"
            ]
          },
          "metadata": {
            "tags": []
          }
        }
      ]
    },
    {
      "cell_type": "markdown",
      "metadata": {
        "id": "Vwv30aBVp0XL",
        "colab_type": "text"
      },
      "source": [
        "<h3>Visualise alert patterns"
      ]
    },
    {
      "cell_type": "code",
      "metadata": {
        "id": "xsDaAN8up0XN",
        "colab_type": "code",
        "colab": {
          "base_uri": "https://localhost:8080/",
          "height": 747
        },
        "outputId": "588bd1ae-2613-4fff-b281-80fdfeb4660e"
      },
      "source": [
        "# Take the first 6 alert IDs where alert type is A3\n",
        "sample_a3 = tx[tx.alert_type=='A3'].alert_id.unique()[0:6] \n",
        "print(\"Sample of A3 Alert_Types:\", sample_a3)\n",
        "\n",
        "fig, ax = plt.subplots(2, 3, figsize=(15,10))\n",
        "\n",
        "for count, alert in enumerate(sample_a3):\n",
        "\n",
        "  # Taking a sample alert and generating a graph of the transactions where accounts are nodes and amounts are weights\n",
        "  edgelist = tx.loc[tx.alert_id==alert,['sender_account', 'receiver_account', 'amount']].values.tolist()\n",
        "\n",
        "  # Create a directional graph using the edge list\n",
        "  graph = nx.DiGraph()\n",
        "  edgelist_tuple = [tuple(x) for x in edgelist]\n",
        "  graph.add_weighted_edges_from(edgelist_tuple)\n",
        "\n",
        "  # Plotting the directional graph\n",
        "\n",
        "  pos = nx.spring_layout(graph)\n",
        "  nx.draw_networkx(graph, pos, with_labels=False, node_size = 20, ax=ax[count%2, count//2])\n",
        "\n",
        "  labels = nx.get_edge_attributes(graph,'weight')\n",
        "  nx.draw_networkx_edge_labels(graph,edge_labels=labels, pos=pos, ax=ax[count%2, count//2])\n",
        "  ax[count%2, count//2].set_title(f'Alert_id: {alert}')\n",
        "\n",
        "plt.tight_layout()\n",
        "plt.show()"
      ],
      "execution_count": 24,
      "outputs": [
        {
          "output_type": "stream",
          "text": [
            "Sample of A3 Alert_Types: ['83' '177' '27' '18' '78' '105']\n"
          ],
          "name": "stdout"
        },
        {
          "output_type": "display_data",
          "data": {
            "image/png": "[encoded data removed]",
            "text/plain": [
              "<Figure size 1080x720 with 6 Axes>"
            ]
          },
          "metadata": {
            "tags": []
          }
        }
      ]
    },
    {
      "cell_type": "markdown",
      "metadata": {
        "id": "eWk7ISXXp0XW",
        "colab_type": "text"
      },
      "source": [
        "<h3>Join balance with transactions"
      ]
    },
    {
      "cell_type": "code",
      "metadata": {
        "id": "R7Gbp0CVp0Xa",
        "colab_type": "code",
        "colab": {
          "base_uri": "https://localhost:8080/",
          "height": 35
        },
        "outputId": "db8fa6ce-7530-46db-8c26-077dcb51cb4e"
      },
      "source": [
        "#initialise balance\n",
        "balance = dict(zip(ac.acct_id, ac.initial_deposit))\n",
        "\n",
        "#monitor debits and credits\n",
        "for i in tqdm.tqdm(range(len(tx))):\n",
        "    \n",
        "    #debit sender account\n",
        "    sender = tx.at[i,'sender_account']\n",
        "    sender_balance_pre = balance[sender]\n",
        "    sender_balance_post = sender_balance_pre - tx.at[i,'amount']\n",
        "    \n",
        "    #credit receiver account\n",
        "    receiver = tx.at[i,'receiver_account']\n",
        "    receiver_balance_pre = balance[receiver]\n",
        "    receiver_balance_post = receiver_balance_pre + tx.loc[i,'amount']\n",
        "    \n",
        "    #create new columns in transactions\n",
        "    tx.at[i,'sender_balance_pre'] = sender_balance_pre\n",
        "    tx.at[i,'sender_balance_post'] = sender_balance_post\n",
        "    tx.at[i,'receiver_balance_pre'] = receiver_balance_pre\n",
        "    tx.at[i,'receiver_balance_post'] = receiver_balance_post\n",
        "    \n",
        "    #update balance dictionary\n",
        "    balance[sender] = sender_balance_post\n",
        "    balance[receiver] = receiver_balance_post\n",
        "    "
      ],
      "execution_count": 25,
      "outputs": [
        {
          "output_type": "stream",
          "text": [
            "100%|██████████| 515721/515721 [00:27<00:00, 18828.91it/s]\n"
          ],
          "name": "stderr"
        }
      ]
    },
    {
      "cell_type": "markdown",
      "metadata": {
        "id": "TUmoSo37p0Xh",
        "colab_type": "text"
      },
      "source": [
        "Visualise balance profiles"
      ]
    },
    {
      "cell_type": "code",
      "metadata": {
        "id": "3Jm3Kq_hp0Xk",
        "colab_type": "code",
        "colab": {
          "base_uri": "https://localhost:8080/",
          "height": 320
        },
        "outputId": "9b9459be-255d-4d09-e522-68e7b38274b7"
      },
      "source": [
        "fig, ax = plt.subplots(figsize=(10,5))\n",
        "a = []\n",
        "a.append('b10e91b4-6ae5-4c9d-b9d3-cba066a0835e') #supicious instance\n",
        "a.append('00cdcce8-17ed-4eb8-9739-1cff8cc99052') #not suspicious instance\n",
        "label = ['False', 'True']\n",
        "col = ['blue', 'red']\n",
        "\n",
        "for i in range(2):\n",
        "    temp = tx[tx['sender_account']==a[i]]\n",
        "    bal = temp['sender_balance_pre']\n",
        "    tim = (temp['timestamp'].dt.date - datetime.date(2017,1,1)).dt.days\n",
        "    plt.plot(tim,bal,color=col[i],label=label[i])\n",
        "plt.legend(loc='best')\n",
        "plt.show()\n"
      ],
      "execution_count": 26,
      "outputs": [
        {
          "output_type": "display_data",
          "data": {
            "image/png": "[encoded data removed]",
            "text/plain": [
              "<Figure size 720x360 with 1 Axes>"
            ]
          },
          "metadata": {
            "tags": []
          }
        }
      ]
    },
    {
      "cell_type": "markdown",
      "metadata": {
        "id": "PURCLDT9p0Xx",
        "colab_type": "text"
      },
      "source": [
        "<h3>Generate Amount Profile Features"
      ]
    },
    {
      "cell_type": "code",
      "metadata": {
        "id": "uBp_Ev25p0X0",
        "colab_type": "code",
        "colab": {
          "base_uri": "https://localhost:8080/",
          "height": 90
        },
        "outputId": "9b7ecbc0-ff1a-44fc-ba6d-f6abe2f8425c"
      },
      "source": [
        "def roll_count(x,w):\n",
        "    return x.rolling(w).count()\n",
        "def roll_sum(x,w):\n",
        "    return x.rolling(w).sum()\n",
        "def roll_mean(x,w):\n",
        "    return x.rolling(w).mean()\n",
        "def expand_count(x):\n",
        "    return x.expanding().count()\n",
        "def expand_sum(x):\n",
        "    return x.expanding().sum()\n",
        "def expand_mean(x):\n",
        "    return x.expanding().mean()\n",
        "\n",
        "# 7 day rolling profiles\n",
        "print('Generating rolling profiles...')\n",
        "tx.set_index('timestamp',inplace=True)\n",
        "print('.....count')\n",
        "tx['s_rolling_count_7D'] = tx.groupby('sender_account').amount.transform(roll_count, '7D')\n",
        "print('.....sum amount')\n",
        "tx['s_rolling_sum_7D'] = tx.groupby('sender_account').amount.transform(roll_sum, '7D')\n",
        "print('.....mean amount')\n",
        "tx['s_rolling_mean_7D'] = tx.groupby('sender_account').amount.transform(roll_mean, '7D')\n",
        "#tx['sr_rolling_count_7D'] = tx.groupby(['sender_account','receiver_account']).amount.transform(roll_count, '7D')\n",
        "#tx['sr_rolling_sum_7D'] = tx.groupby(['sender_account','receiver_account']).amount.transform(roll_sum, '7D')\n",
        "#tx['sr_rolling_mean_7D'] = tx.groupby(['sender_account','receiver_account']).amount.transform(roll_mean, '7D')\n",
        "tx.reset_index(inplace=True)\n",
        "\n",
        "# expanding profiles\n",
        "#print('Generating expanding profiles...')\n",
        "#tx['s_expanding_count'] = tx.groupby('sender_account').amount.transform(expand_count)\n",
        "#tx['s_expanding_sum'] = tx.groupby('sender_account').amount.transform(expand_sum)\n",
        "#tx['s_expanding_mean'] = tx.groupby('sender_account').amount.transform(expand_mean)\n",
        "#tx['sr_expanding_count'] = tx.groupby(['sender_account','receiver_account']).amount.transform(expand_count)\n",
        "#tx['sr_expanding_sum'] = tx.groupby(['sender_account','receiver_account']).amount.transform(expand_sum)\n",
        "#tx['sr_expanding_mean'] = tx.groupby(['sender_account','receiver_account']).amount.transform(expand_mean)"
      ],
      "execution_count": 27,
      "outputs": [
        {
          "output_type": "stream",
          "text": [
            "Generating rolling profiles...\n",
            ".....count\n",
            ".....sum amount\n",
            ".....mean amount\n"
          ],
          "name": "stdout"
        }
      ]
    },
    {
      "cell_type": "markdown",
      "metadata": {
        "id": "6HQFwGz-p0YA",
        "colab_type": "text"
      },
      "source": [
        "<h3>Network Features"
      ]
    },
    {
      "cell_type": "code",
      "metadata": {
        "id": "aIqLAtZhp0YE",
        "colab_type": "code",
        "colab": {
          "base_uri": "https://localhost:8080/",
          "height": 164
        },
        "outputId": "1dec6a2a-b7d5-42ba-f8dc-83b0fbbd7e2c"
      },
      "source": [
        "# This block takes quite a long time to run\n",
        "def add_feature(tx,x,s):\n",
        "    a = dict(x)\n",
        "    for i in range(len(tx)):\n",
        "        o = a.get(tx.at[i,'sender_account'])\n",
        "        tx.at[i,'nameOrig'+s] = o\n",
        "        d = a.get(tx.at[i,'receiver_account'])\n",
        "        tx.at[i,'nameDest'+s] = d\n",
        "    return (tx)\n",
        "    \n",
        "MG = nx.from_pandas_edgelist(tx, 'sender_account', 'receiver_account', create_using=nx.DiGraph())\n",
        "\n",
        "degree = MG.degree()\n",
        "tx = add_feature(tx,degree,'_degree')\n",
        "print('degree feature added')\n",
        "\n",
        "out_degree = MG.out_degree()\n",
        "tx = add_feature(tx,out_degree,'_outdegree')\n",
        "print('out-degree feature added')\n",
        "\n",
        "in_degree = MG.in_degree()\n",
        "tx = add_feature(tx,in_degree,'_indegree')\n",
        "print('in-degree feature added')\n",
        "\n",
        "G = nx.Graph(MG)\n",
        "triangles = nx.triangles(G)\n",
        "tx = add_feature(tx,triangles,'_triangles')\n",
        "print('triangles feature added')\n",
        "\n",
        "clust_coefficients = nx.clustering(G)\n",
        "tx = add_feature(tx,clust_coefficients,'_clust')\n",
        "print('clustering coeff feature added')\n",
        "    \n",
        "degree_centrality = nx.degree_centrality(G)\n",
        "tx = add_feature(tx,degree_centrality,'_degcentral')\n",
        "print('degree centrality feature added')\n",
        "\n",
        "eigenvector_centrality = nx.eigenvector_centrality_numpy(G)\n",
        "tx = add_feature(tx,eigenvector_centrality,'_eigcentral')\n",
        "print('eigenvector centrality feature added')\n",
        "\n",
        "betweenness_centrality = nx.betweenness_centrality(G)\n",
        "tx = add_feature(tx,betweenness_centrality,'_bwcentral')\n",
        "print('betweenness centrality feature added')\n",
        "\n",
        "closeness_centrality = nx.closeness_centrality(G)\n",
        "tx = add_feature(tx,closeness_centrality,'_closecentral')\n",
        "print('closeness centrality feature added')\n",
        "\n",
        "katz_centrality = nx.katz_centrality_numpy(G)\n",
        "tx = add_feature(tx,katz_centrality,'_katzcentral')\n",
        "print('katz centrality feature added')\n",
        "\n",
        "load_centrality = nx.load_centrality(G)\n",
        "tx = add_feature(tx,load_centrality,'_loadcentral')\n",
        "print('load centrality feature added')\n",
        "\n",
        "harmonic_centrality = nx.harmonic_centrality(G)\n",
        "tx = add_feature(tx,harmonic_centrality,'_harmoniccentral')\n",
        "print('harmonic centrality feature added')\n",
        "\n",
        "    "
      ],
      "execution_count": 0,
      "outputs": [
        {
          "output_type": "stream",
          "text": [
            "degree feature added\n",
            "out-degree feature added\n",
            "in-degree feature added\n",
            "triangles feature added\n",
            "clustering coeff feature added\n",
            "degree centrality feature added\n",
            "eigenvector centrality feature added\n",
            "betweenness centrality feature added\n"
          ],
          "name": "stdout"
        }
      ]
    },
    {
      "cell_type": "markdown",
      "metadata": {
        "id": "GDrFkTHkp0YN",
        "colab_type": "text"
      },
      "source": [
        "<h3> (Supervised) Machine Learning!"
      ]
    },
    {
      "cell_type": "markdown",
      "metadata": {
        "id": "4cdex68bp0YQ",
        "colab_type": "text"
      },
      "source": [
        "Prep data"
      ]
    },
    {
      "cell_type": "code",
      "metadata": {
        "id": "C_u3jED9p0Yd",
        "colab_type": "code",
        "colab": {}
      },
      "source": [
        "from sklearn.ensemble import GradientBoostingClassifier\n",
        "from sklearn.model_selection import train_test_split\n",
        "from sklearn.metrics import mean_squared_error\n",
        "from sklearn.metrics import mean_absolute_error\n",
        "from sklearn.metrics import classification_report, confusion_matrix, roc_curve, auc\n",
        "from sklearn.utils.multiclass import unique_labels\n",
        "\n",
        "X = copy.deepcopy(tx)\n",
        "y = copy.deepcopy(tx.is_suspx)\n",
        "\n",
        "predict_df = X[X.is_suspx=='Unknown']\n",
        "y = y[X.is_suspx!='Unknown']\n",
        "y = y.factorize()[0]\n",
        "X = X[X.is_suspx!='Unknown']\n",
        "\n",
        "X = X.loc[:, ['amount', 's_rolling_count_7D', 's_rolling_sum_7D']]\n",
        "predict_df = predict_df.loc[:, ['amount', 's_rolling_count_7D', 's_rolling_sum_7D']]\n",
        "\n",
        "X_train, X_test, y_train, y_test = train_test_split(X, y)"
      ],
      "execution_count": 0,
      "outputs": []
    },
    {
      "cell_type": "markdown",
      "metadata": {
        "id": "Yp6RQGtBp0Yo",
        "colab_type": "text"
      },
      "source": [
        "Build & validate model"
      ]
    },
    {
      "cell_type": "code",
      "metadata": {
        "id": "tjC9a2nPp0Yr",
        "colab_type": "code",
        "colab": {}
      },
      "source": [
        "#add terminology cell in notebook\n",
        "gb = GradientBoostingClassifier(\n",
        "    max_depth=3,\n",
        "    n_estimators=100,\n",
        "    learning_rate=0.2\n",
        ")\n",
        "gb.fit(X_train, y_train)\n",
        "\n",
        "print(\"Accuracy score (validation): {0:.3f}\".format(gb.score(X_test, y_test)))"
      ],
      "execution_count": 0,
      "outputs": []
    },
    {
      "cell_type": "code",
      "metadata": {
        "id": "KDDDZi8_p0Y3",
        "colab_type": "code",
        "colab": {}
      },
      "source": [
        "predictions = gb.predict(X_test)\n",
        "\n",
        "print(\"Confusion Matrix:\")\n",
        "print(confusion_matrix(y_test, predictions))\n",
        "print()\n",
        "print(\"Classification Report\")\n",
        "print(classification_report(y_test, predictions))"
      ],
      "execution_count": 0,
      "outputs": []
    },
    {
      "cell_type": "markdown",
      "metadata": {
        "id": "JpP6UK5bp0Y9",
        "colab_type": "text"
      },
      "source": [
        "Class imbalance problem: try (random) undersampling the majority (is_suspx=False) class"
      ]
    }
  ]
}