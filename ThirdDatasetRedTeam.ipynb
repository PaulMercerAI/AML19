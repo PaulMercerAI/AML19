{
  "nbformat": 4,
  "nbformat_minor": 0,
  "metadata": {
    "colab": {
      "name": "ThirdDatasetRedTeam.ipynb",
      "provenance": [],
      "include_colab_link": true
    },
    "kernelspec": {
      "name": "python3",
      "display_name": "Python 3"
    }
  },
  "cells": [
    {
      "cell_type": "markdown",
      "metadata": {
        "id": "view-in-github",
        "colab_type": "text"
      },
      "source": [
        "<a href=\"https://colab.research.google.com/github/PaulMercerAI/AML19/blob/master/ThirdDatasetRedTeam.ipynb\" target=\"_parent\"><img src=\"https://colab.research.google.com/assets/colab-badge.svg\" alt=\"Open In Colab\"/></a>"
      ]
    },
    {
      "cell_type": "code",
      "metadata": {
        "id": "L31Fbkd_fDnm",
        "colab_type": "code",
        "outputId": "d04ef3df-022f-4005-bdab-4875ea359313",
        "colab": {
          "base_uri": "https://localhost:8080/",
          "height": 69
        }
      },
      "source": [
        "!curl https://raw.githubusercontent.com/PaulMercerAI/AML19/master/data/20191101_Transactions.csv.xz -L | xzcat > transactions.csv "
      ],
      "execution_count": 2,
      "outputs": [
        {
          "output_type": "stream",
          "text": [
            "  % Total    % Received % Xferd  Average Speed   Time    Time     Time  Current\n",
            "                                 Dload  Upload   Total   Spent    Left  Speed\n",
            "100 5697k  100 5697k    0     0  3134k      0  0:00:01  0:00:01 --:--:-- 3132k\n"
          ],
          "name": "stdout"
        }
      ]
    },
    {
      "cell_type": "code",
      "metadata": {
        "id": "Pw7a2MhBKFbP",
        "colab_type": "code",
        "colab": {
          "base_uri": "https://localhost:8080/",
          "height": 69
        },
        "outputId": "fd2be17a-bcb0-453e-f064-c886ac786375"
      },
      "source": [
        "!curl https://raw.githubusercontent.com/PaulMercerAI/AML19/master/data/20191101_Accounts.csv.xz -L | xzcat > accounts.csv "
      ],
      "execution_count": 3,
      "outputs": [
        {
          "output_type": "stream",
          "text": [
            "  % Total    % Received % Xferd  Average Speed   Time    Time     Time  Current\n",
            "                                 Dload  Upload   Total   Spent    Left  Speed\n",
            "\r  0     0    0     0    0     0      0      0 --:--:-- --:--:-- --:--:--     0\r100  303k  100  303k    0     0  1273k      0 --:--:-- --:--:-- --:--:-- 1273k\n"
          ],
          "name": "stdout"
        }
      ]
    },
    {
      "cell_type": "code",
      "metadata": {
        "id": "h56qK_AVcGVE",
        "colab_type": "code",
        "outputId": "05eba3df-915d-4ae3-9574-acb36300f7a9",
        "colab": {
          "base_uri": "https://localhost:8080/",
          "height": 451
        }
      },
      "source": [
        "#!head transactions.csv\n",
        "!pip install node2vec"
      ],
      "execution_count": 4,
      "outputs": [
        {
          "output_type": "stream",
          "text": [
            "Collecting node2vec\n",
            "  Downloading https://files.pythonhosted.org/packages/55/61/8c4a162e5c7ee459e80874b146accaf05ed991308517fa1d5b0f6cb1df83/node2vec-0.3.1-py3-none-any.whl\n",
            "Requirement already satisfied: gensim in /usr/local/lib/python3.6/dist-packages (from node2vec) (3.6.0)\n",
            "Requirement already satisfied: numpy in /usr/local/lib/python3.6/dist-packages (from node2vec) (1.17.3)\n",
            "Requirement already satisfied: joblib>=0.13.2 in /usr/local/lib/python3.6/dist-packages (from node2vec) (0.14.0)\n",
            "Requirement already satisfied: tqdm in /usr/local/lib/python3.6/dist-packages (from node2vec) (4.28.1)\n",
            "Requirement already satisfied: networkx in /usr/local/lib/python3.6/dist-packages (from node2vec) (2.4)\n",
            "Requirement already satisfied: scipy>=0.18.1 in /usr/local/lib/python3.6/dist-packages (from gensim->node2vec) (1.3.1)\n",
            "Requirement already satisfied: smart-open>=1.2.1 in /usr/local/lib/python3.6/dist-packages (from gensim->node2vec) (1.8.4)\n",
            "Requirement already satisfied: six>=1.5.0 in /usr/local/lib/python3.6/dist-packages (from gensim->node2vec) (1.12.0)\n",
            "Requirement already satisfied: decorator>=4.3.0 in /usr/local/lib/python3.6/dist-packages (from networkx->node2vec) (4.4.1)\n",
            "Requirement already satisfied: requests in /usr/local/lib/python3.6/dist-packages (from smart-open>=1.2.1->gensim->node2vec) (2.21.0)\n",
            "Requirement already satisfied: boto3 in /usr/local/lib/python3.6/dist-packages (from smart-open>=1.2.1->gensim->node2vec) (1.10.4)\n",
            "Requirement already satisfied: boto>=2.32 in /usr/local/lib/python3.6/dist-packages (from smart-open>=1.2.1->gensim->node2vec) (2.49.0)\n",
            "Requirement already satisfied: chardet<3.1.0,>=3.0.2 in /usr/local/lib/python3.6/dist-packages (from requests->smart-open>=1.2.1->gensim->node2vec) (3.0.4)\n",
            "Requirement already satisfied: urllib3<1.25,>=1.21.1 in /usr/local/lib/python3.6/dist-packages (from requests->smart-open>=1.2.1->gensim->node2vec) (1.24.3)\n",
            "Requirement already satisfied: idna<2.9,>=2.5 in /usr/local/lib/python3.6/dist-packages (from requests->smart-open>=1.2.1->gensim->node2vec) (2.8)\n",
            "Requirement already satisfied: certifi>=2017.4.17 in /usr/local/lib/python3.6/dist-packages (from requests->smart-open>=1.2.1->gensim->node2vec) (2019.9.11)\n",
            "Requirement already satisfied: jmespath<1.0.0,>=0.7.1 in /usr/local/lib/python3.6/dist-packages (from boto3->smart-open>=1.2.1->gensim->node2vec) (0.9.4)\n",
            "Requirement already satisfied: botocore<1.14.0,>=1.13.4 in /usr/local/lib/python3.6/dist-packages (from boto3->smart-open>=1.2.1->gensim->node2vec) (1.13.4)\n",
            "Requirement already satisfied: s3transfer<0.3.0,>=0.2.0 in /usr/local/lib/python3.6/dist-packages (from boto3->smart-open>=1.2.1->gensim->node2vec) (0.2.1)\n",
            "Requirement already satisfied: python-dateutil<3.0.0,>=2.1; python_version >= \"2.7\" in /usr/local/lib/python3.6/dist-packages (from botocore<1.14.0,>=1.13.4->boto3->smart-open>=1.2.1->gensim->node2vec) (2.6.1)\n",
            "Requirement already satisfied: docutils<0.16,>=0.10 in /usr/local/lib/python3.6/dist-packages (from botocore<1.14.0,>=1.13.4->boto3->smart-open>=1.2.1->gensim->node2vec) (0.15.2)\n",
            "Installing collected packages: node2vec\n",
            "Successfully installed node2vec-0.3.1\n"
          ],
          "name": "stdout"
        }
      ]
    },
    {
      "cell_type": "code",
      "metadata": {
        "id": "9BcAhUM3gUxH",
        "colab_type": "code",
        "colab": {}
      },
      "source": [
        "import pandas as pd\n",
        "import numpy as np \n",
        "import matplotlib.pyplot as plt\n",
        "import seaborn as sns\n",
        "import networkx as nx\n",
        "import node2vec"
      ],
      "execution_count": 0,
      "outputs": []
    },
    {
      "cell_type": "code",
      "metadata": {
        "id": "JW6Q9zKRgsD3",
        "colab_type": "code",
        "colab": {}
      },
      "source": [
        "transactions = pd.read_csv('transactions.csv')\n",
        "accounts = pd.read_csv('accounts.csv')"
      ],
      "execution_count": 0,
      "outputs": []
    },
    {
      "cell_type": "code",
      "metadata": {
        "id": "StHHcOS4YUqy",
        "colab_type": "code",
        "outputId": "b8d49eee-1d4c-40ff-81fd-ce92129aabb7",
        "colab": {
          "base_uri": "https://localhost:8080/",
          "height": 363
        }
      },
      "source": [
        "#transactions[transactions['is_suspx']==True].tail(10)\n",
        "transactions.head(10)"
      ],
      "execution_count": 16,
      "outputs": [
        {
          "output_type": "execute_result",
          "data": {
            "text/html": [
              "<div>\n",
              "<style scoped>\n",
              "    .dataframe tbody tr th:only-of-type {\n",
              "        vertical-align: middle;\n",
              "    }\n",
              "\n",
              "    .dataframe tbody tr th {\n",
              "        vertical-align: top;\n",
              "    }\n",
              "\n",
              "    .dataframe thead th {\n",
              "        text-align: right;\n",
              "    }\n",
              "</style>\n",
              "<table border=\"1\" class=\"dataframe\">\n",
              "  <thead>\n",
              "    <tr style=\"text-align: right;\">\n",
              "      <th></th>\n",
              "      <th>id</th>\n",
              "      <th>timestamp</th>\n",
              "      <th>sender_account</th>\n",
              "      <th>receiver_account</th>\n",
              "      <th>amount</th>\n",
              "      <th>is_suspx</th>\n",
              "      <th>alert_id</th>\n",
              "      <th>alert_type</th>\n",
              "    </tr>\n",
              "  </thead>\n",
              "  <tbody>\n",
              "    <tr>\n",
              "      <th>0</th>\n",
              "      <td>1</td>\n",
              "      <td>2017-01-01T00:00:00Z</td>\n",
              "      <td>6f339c5e-0392-4cfa-9d9f-2c8c6640464a</td>\n",
              "      <td>50cca99f-5ed2-465d-8c07-cdc393bc506c</td>\n",
              "      <td>397.89</td>\n",
              "      <td>Unknown</td>\n",
              "      <td>Unknown</td>\n",
              "      <td>Unknown</td>\n",
              "    </tr>\n",
              "    <tr>\n",
              "      <th>1</th>\n",
              "      <td>2</td>\n",
              "      <td>2017-01-01T00:00:00Z</td>\n",
              "      <td>a117b864-82f5-4390-ad69-6cb3b774b61d</td>\n",
              "      <td>f46a9817-194a-489d-8f3f-be079dba68ea</td>\n",
              "      <td>319.16</td>\n",
              "      <td>False</td>\n",
              "      <td>-</td>\n",
              "      <td>-</td>\n",
              "    </tr>\n",
              "    <tr>\n",
              "      <th>2</th>\n",
              "      <td>3</td>\n",
              "      <td>2017-01-01T00:00:00Z</td>\n",
              "      <td>2e0c881c-1068-4337-ae5e-ccf7df4924f2</td>\n",
              "      <td>39681e1d-898a-4752-9c71-64a818906db4</td>\n",
              "      <td>262.26</td>\n",
              "      <td>Unknown</td>\n",
              "      <td>Unknown</td>\n",
              "      <td>Unknown</td>\n",
              "    </tr>\n",
              "    <tr>\n",
              "      <th>3</th>\n",
              "      <td>4</td>\n",
              "      <td>2017-01-01T00:00:00Z</td>\n",
              "      <td>de72d970-10c4-4f9e-b020-321be90f4137</td>\n",
              "      <td>5eabfb1c-fda3-4293-97b3-0cb4bcf71f08</td>\n",
              "      <td>288.52</td>\n",
              "      <td>False</td>\n",
              "      <td>-</td>\n",
              "      <td>-</td>\n",
              "    </tr>\n",
              "    <tr>\n",
              "      <th>4</th>\n",
              "      <td>5</td>\n",
              "      <td>2017-01-01T00:00:00Z</td>\n",
              "      <td>68a522b9-ff6f-46ca-a245-932771224f95</td>\n",
              "      <td>42bb8f63-4145-4abc-8cc2-e0f013093c17</td>\n",
              "      <td>344.55</td>\n",
              "      <td>Unknown</td>\n",
              "      <td>Unknown</td>\n",
              "      <td>Unknown</td>\n",
              "    </tr>\n",
              "    <tr>\n",
              "      <th>5</th>\n",
              "      <td>6</td>\n",
              "      <td>2017-01-01T00:00:00Z</td>\n",
              "      <td>e9ea9d49-bc94-446e-a741-0d2ce0f13db6</td>\n",
              "      <td>8db78572-ef7d-4821-bca0-258eb63d65d5</td>\n",
              "      <td>447.86</td>\n",
              "      <td>False</td>\n",
              "      <td>-</td>\n",
              "      <td>-</td>\n",
              "    </tr>\n",
              "    <tr>\n",
              "      <th>6</th>\n",
              "      <td>7</td>\n",
              "      <td>2017-01-01T00:00:00Z</td>\n",
              "      <td>b2b51b60-5c89-406e-aa1b-248fea94d306</td>\n",
              "      <td>ade81084-ef29-4413-bfda-e6661b314321</td>\n",
              "      <td>387.49</td>\n",
              "      <td>False</td>\n",
              "      <td>-</td>\n",
              "      <td>-</td>\n",
              "    </tr>\n",
              "    <tr>\n",
              "      <th>7</th>\n",
              "      <td>8</td>\n",
              "      <td>2017-01-01T00:00:00Z</td>\n",
              "      <td>4dbb5559-8c12-46ef-b1fa-b84d80dd8005</td>\n",
              "      <td>e9f746e7-1fd3-48d0-b7a4-d097aaa22344</td>\n",
              "      <td>370.12</td>\n",
              "      <td>False</td>\n",
              "      <td>-</td>\n",
              "      <td>-</td>\n",
              "    </tr>\n",
              "    <tr>\n",
              "      <th>8</th>\n",
              "      <td>9</td>\n",
              "      <td>2017-01-01T00:00:00Z</td>\n",
              "      <td>57232faa-b578-4525-af0a-c5d6ee5e1fb5</td>\n",
              "      <td>a2e25753-56ff-4b3e-b80c-fd3dba6a741c</td>\n",
              "      <td>409.68</td>\n",
              "      <td>False</td>\n",
              "      <td>-</td>\n",
              "      <td>-</td>\n",
              "    </tr>\n",
              "    <tr>\n",
              "      <th>9</th>\n",
              "      <td>10</td>\n",
              "      <td>2017-01-01T00:00:00Z</td>\n",
              "      <td>47020de0-bc64-47e9-b16e-c0b6e3d9de7f</td>\n",
              "      <td>99474e78-77cd-4b25-8786-140f2339df60</td>\n",
              "      <td>429.27</td>\n",
              "      <td>Unknown</td>\n",
              "      <td>Unknown</td>\n",
              "      <td>Unknown</td>\n",
              "    </tr>\n",
              "  </tbody>\n",
              "</table>\n",
              "</div>"
            ],
            "text/plain": [
              "   id             timestamp  ... alert_id alert_type\n",
              "0   1  2017-01-01T00:00:00Z  ...  Unknown    Unknown\n",
              "1   2  2017-01-01T00:00:00Z  ...        -          -\n",
              "2   3  2017-01-01T00:00:00Z  ...  Unknown    Unknown\n",
              "3   4  2017-01-01T00:00:00Z  ...        -          -\n",
              "4   5  2017-01-01T00:00:00Z  ...  Unknown    Unknown\n",
              "5   6  2017-01-01T00:00:00Z  ...        -          -\n",
              "6   7  2017-01-01T00:00:00Z  ...        -          -\n",
              "7   8  2017-01-01T00:00:00Z  ...        -          -\n",
              "8   9  2017-01-01T00:00:00Z  ...        -          -\n",
              "9  10  2017-01-01T00:00:00Z  ...  Unknown    Unknown\n",
              "\n",
              "[10 rows x 8 columns]"
            ]
          },
          "metadata": {
            "tags": []
          },
          "execution_count": 16
        }
      ]
    }
  ]
}