{
  "nbformat": 4,
  "nbformat_minor": 0,
  "metadata": {
    "colab": {
      "name": "SimpleSolution.ipynb",
      "provenance": [],
      "collapsed_sections": []
    },
    "kernelspec": {
      "name": "python3",
      "display_name": "Python 3"
    }
  },
  "cells": [
    {
      "cell_type": "code",
      "metadata": {
        "id": "MC5byXJ9VTAE",
        "colab_type": "code",
        "outputId": "46a552f6-c472-4dfb-c5dc-db6611e530fd",
        "colab": {
          "base_uri": "https://localhost:8080/",
          "height": 86
        }
      },
      "source": [
        "print('Downloading data locally')\n",
        "#![ -f \"accounts.csv\" ] && echo \"Already downloaded\" || curl https://raw.githubusercontent.com/PaulMercerAI/AML19/master/data/20191111_Accounts.csv.xz -L | xzcat > accounts.csv\n",
        "![ -f \"transactions.csv\" ] && echo \"Already downloaded\" || curl https://raw.githubusercontent.com/PaulMercerAI/AML19/master/data/20191111_Transactions.csv.xz -L | xzcat > transactions.csv"
      ],
      "execution_count": 1,
      "outputs": [
        {
          "output_type": "stream",
          "text": [
            "Downloading data locally\n",
            "  % Total    % Received % Xferd  Average Speed   Time    Time     Time  Current\n",
            "                                 Dload  Upload   Total   Spent    Left  Speed\n",
            "100 5022k  100 5022k    0     0   692k      0  0:00:07  0:00:07 --:--:-- 1343k\n"
          ],
          "name": "stdout"
        }
      ]
    },
    {
      "cell_type": "code",
      "metadata": {
        "id": "zJid1ZIeW4mG",
        "colab_type": "code",
        "colab": {}
      },
      "source": [
        "import pandas as pd #Functions to manage multidimensional structured data sets\n",
        "import numpy as np  #Fast numeric functions"
      ],
      "execution_count": 0,
      "outputs": []
    },
    {
      "cell_type": "code",
      "metadata": {
        "id": "NkcvVEX3XH7m",
        "colab_type": "code",
        "colab": {}
      },
      "source": [
        "tx = pd.read_csv(\"transactions.csv\")"
      ],
      "execution_count": 0,
      "outputs": []
    },
    {
      "cell_type": "code",
      "metadata": {
        "id": "Gjj4fvo8XOnr",
        "colab_type": "code",
        "colab": {}
      },
      "source": [
        "#Get just the sender accounts and amounts where we don't know if the transactions are suspicious\n",
        "txUnknown = tx[tx.is_suspx!='Unknown'][['sender_account', 'amount']]"
      ],
      "execution_count": 0,
      "outputs": []
    },
    {
      "cell_type": "code",
      "metadata": {
        "id": "D0UvIOeEXra5",
        "colab_type": "code",
        "outputId": "cfa5fdc4-0373-42f9-8189-b794f3118bd9",
        "colab": {
          "base_uri": "https://localhost:8080/",
          "height": 143
        }
      },
      "source": [
        "# Create a function using https://docs.scipy.org/doc/numpy/reference/generated/numpy.std.html and np.mean\n",
        "# to get a normalised standard deviation for an array of transactions\n",
        "def nsd(a):\n",
        "  return np.std(a) / np.mean(a) #normalisedStandardDeviation of amount\n",
        "\n",
        "txAmountOutliers = txUnknown.groupby(txUnknown.sender_account).aggregate(nsd)\n",
        "txAmountOutliers.columns = ['normalisedStandardDeviation']\n",
        "txAmountOutliers.head(2)"
      ],
      "execution_count": 5,
      "outputs": [
        {
          "output_type": "execute_result",
          "data": {
            "text/html": [
              "<div>\n",
              "<style scoped>\n",
              "    .dataframe tbody tr th:only-of-type {\n",
              "        vertical-align: middle;\n",
              "    }\n",
              "\n",
              "    .dataframe tbody tr th {\n",
              "        vertical-align: top;\n",
              "    }\n",
              "\n",
              "    .dataframe thead th {\n",
              "        text-align: right;\n",
              "    }\n",
              "</style>\n",
              "<table border=\"1\" class=\"dataframe\">\n",
              "  <thead>\n",
              "    <tr style=\"text-align: right;\">\n",
              "      <th></th>\n",
              "      <th>normalisedStandardDeviation</th>\n",
              "    </tr>\n",
              "    <tr>\n",
              "      <th>sender_account</th>\n",
              "      <th></th>\n",
              "    </tr>\n",
              "  </thead>\n",
              "  <tbody>\n",
              "    <tr>\n",
              "      <th>000cd21a-65a7-4a30-b5b7-0dd9728f5897</th>\n",
              "      <td>0.092881</td>\n",
              "    </tr>\n",
              "    <tr>\n",
              "      <th>001e7006-29d3-44d6-9a59-6f63141ec659</th>\n",
              "      <td>0.209670</td>\n",
              "    </tr>\n",
              "  </tbody>\n",
              "</table>\n",
              "</div>"
            ],
            "text/plain": [
              "                                      normalisedStandardDeviation\n",
              "sender_account                                                   \n",
              "000cd21a-65a7-4a30-b5b7-0dd9728f5897                     0.092881\n",
              "001e7006-29d3-44d6-9a59-6f63141ec659                     0.209670"
            ]
          },
          "metadata": {
            "tags": []
          },
          "execution_count": 5
        }
      ]
    },
    {
      "cell_type": "code",
      "metadata": {
        "id": "GyUAB7luNfHb",
        "colab_type": "code",
        "colab": {}
      },
      "source": [
        "#Get the transaction sender_account, id and amount with the sender_account being the index\n",
        "#to make it quick and easy to join these with the outliers\n",
        "txSummary = tx[['sender_account', 'id', 'amount']].set_index('sender_account')"
      ],
      "execution_count": 0,
      "outputs": []
    },
    {
      "cell_type": "code",
      "metadata": {
        "id": "zVJopMB99zuh",
        "colab_type": "code",
        "colab": {}
      },
      "source": [
        "#Model assumes the riskiest 1000 are the ones with the highest normalised standard deviation amount, then amount\n",
        "txRiskiest = txSummary.join(txAmountOutliers).nlargest(1000, ['normalisedStandardDeviation', 'amount'])"
      ],
      "execution_count": 0,
      "outputs": []
    },
    {
      "cell_type": "code",
      "metadata": {
        "id": "8Ya5Qm9MCK__",
        "colab_type": "code",
        "colab": {}
      },
      "source": [
        "#Model assumes there is definitely an outlier at the top that is money laundering, and after the top 1000 nothing is money laundering\n",
        "#and the probability scale is linear in between\n",
        "txRiskiest['P'] = np.arange(1.0,0.0, -0.001)\n",
        "\n",
        "#but we don't know what the behaviour is of the laundering, so make a guess\n",
        "txRiskiest['alert_type'] = \"A1\"\n",
        "\n",
        "#remove the fields we are not submitting\n",
        "txRiskiest=txRiskiest[['id', 'P', 'alert_type']].set_index('id')"
      ],
      "execution_count": 0,
      "outputs": []
    },
    {
      "cell_type": "code",
      "metadata": {
        "id": "8E_xiyBUsF0f",
        "colab_type": "code",
        "colab": {}
      },
      "source": [
        "#Save to file\n",
        "txRiskiest.to_csv('result.tsv', sep='\\t')"
      ],
      "execution_count": 0,
      "outputs": []
    },
    {
      "cell_type": "code",
      "metadata": {
        "id": "vIzFfJTVtQ50",
        "colab_type": "code",
        "outputId": "934db7cb-4cd8-40bf-e1f6-bd40deafe0ae",
        "colab": {
          "base_uri": "https://localhost:8080/",
          "height": 191
        }
      },
      "source": [
        "#Sanity check\n",
        "!head result.tsv"
      ],
      "execution_count": 10,
      "outputs": [
        {
          "output_type": "stream",
          "text": [
            "id\tP\talert_type\n",
            "474140\t1.0\tA1\n",
            "408881\t0.999\tA1\n",
            "343413\t0.998\tA1\n",
            "278611\t0.997\tA1\n",
            "83017\t0.996\tA1\n",
            "148219\t0.995\tA1\n",
            "213217\t0.994\tA1\n",
            "17218\t0.993\tA1\n",
            "245367\t0.992\tA1\n"
          ],
          "name": "stdout"
        }
      ]
    },
    {
      "cell_type": "markdown",
      "metadata": {
        "id": "9dTjVGMrCb0E",
        "colab_type": "text"
      },
      "source": [
        "Download the ipynb notebook from the File menu and submit as the solution along with result.tsv at https://aml19.herokuapp.com/"
      ]
    }
  ]
}